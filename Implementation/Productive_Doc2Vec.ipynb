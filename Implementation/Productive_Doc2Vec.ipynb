{
 "cells": [
  {
   "cell_type": "code",
   "execution_count": null,
   "metadata": {},
   "outputs": [],
   "source": [
    "import pandas as pd\n",
    "import numpy as np\n",
    "from gensim.models.doc2vec import Doc2Vec, TaggedDocument\n",
    "from nltk.tokenize import word_tokenize"
   ]
  },
  {
   "cell_type": "markdown",
   "metadata": {},
   "source": [
    "### Leipzig Corpus Kollektion"
   ]
  },
  {
   "cell_type": "code",
   "execution_count": null,
   "metadata": {},
   "outputs": [],
   "source": [
    "leipzig = open('data/leipzig_eng_news_2016_1M-sentences.txt', 'r+', encoding='utf-8')\n",
    "leipzig_news_docs = []\n",
    "for doc in leipzig:\n",
    "    doc = doc.strip().split(\"\\t\")\n",
    "    leipzig_news_docs.append(doc[1])\n",
    "leipzig.close()"
   ]
  },
  {
   "cell_type": "code",
   "execution_count": null,
   "metadata": {},
   "outputs": [],
   "source": [
    "# First row was empty, was deleted\n",
    "leipzig_web = open('data/leipzig_eng-eu_web_2014_1M-sentences.txt', 'r+', encoding='utf-8')\n",
    "leipzig_web_docs = []\n",
    "for doc in leipzig_web:\n",
    "    doc = doc.strip().split(\"\\t\")\n",
    "    leipzig_web_docs.append(doc[1])\n",
    "leipzig.close()"
   ]
  },
  {
   "cell_type": "code",
   "execution_count": null,
   "metadata": {},
   "outputs": [],
   "source": [
    "leipzig = open('data/leipzig_eng_wikipedia_2016_1M-sentences.txt', 'r+', encoding='utf-8')\n",
    "leipzig_wiki_docs = []\n",
    "for doc in leipzig:\n",
    "    doc = doc.strip().split(\"\\t\")\n",
    "    leipzig_wiki_docs.append(doc[1])\n",
    "leipzig.close()"
   ]
  },
  {
   "cell_type": "code",
   "execution_count": null,
   "metadata": {},
   "outputs": [],
   "source": [
    "print('Leipzig news: ' +str(len(leipzig_news_docs)))\n",
    "print('Leipzig web: ' +str(len(leipzig_web_docs)))\n",
    "print('Leipzig wiki: ' +str(len(leipzig_wiki_docs)))"
   ]
  },
  {
   "cell_type": "markdown",
   "metadata": {},
   "source": [
    "## Discofuse wiki"
   ]
  },
  {
   "cell_type": "code",
   "execution_count": null,
   "metadata": {},
   "outputs": [],
   "source": [
    "discofuse = open('data/discofuse_corpus_clean.tsv', 'r+', encoding='utf-8')\n",
    "discofuse_docs = []\n",
    "for doc in discofuse:\n",
    "    doc = doc.strip().split(\"\\n\")\n",
    "    discofuse_docs.append(doc[0])\n",
    "discofuse.close()"
   ]
  },
  {
   "cell_type": "code",
   "execution_count": null,
   "metadata": {},
   "outputs": [],
   "source": [
    "len(discofuse_docs)"
   ]
  },
  {
   "cell_type": "markdown",
   "metadata": {},
   "source": [
    "## Concat data sets"
   ]
  },
  {
   "cell_type": "code",
   "execution_count": null,
   "metadata": {},
   "outputs": [],
   "source": [
    "all_docs = np.concatenate((leipzig_news_docs, leipzig_web_docs, leipzig_wiki_docs, discofuse_docs))"
   ]
  },
  {
   "cell_type": "code",
   "execution_count": null,
   "metadata": {},
   "outputs": [],
   "source": [
    "len(all_docs)"
   ]
  },
  {
   "cell_type": "code",
   "execution_count": null,
   "metadata": {},
   "outputs": [],
   "source": [
    "tagged_data = [TaggedDocument(words=word_tokenize(_d.lower()), \n",
    "                              tags=[str(i)]) for i, \n",
    "                              _d in enumerate(all_docs)]"
   ]
  },
  {
   "cell_type": "code",
   "execution_count": null,
   "metadata": {},
   "outputs": [],
   "source": [
    "doc2vec_model = Doc2Vec(tagged_data, vector_size=300, alpha=0.0005, min_alpha=0.00025, min_count=3, dm=1, window = 5, epoch = 3)"
   ]
  },
  {
   "cell_type": "code",
   "execution_count": null,
   "metadata": {},
   "outputs": [],
   "source": [
    "doc2vec_model.save('data/Doc2Vec.model')"
   ]
  }
 ],
 "metadata": {
  "kernelspec": {
   "display_name": "Python 3",
   "language": "python",
   "name": "python3"
  },
  "language_info": {
   "codemirror_mode": {
    "name": "ipython",
    "version": 3
   },
   "file_extension": ".py",
   "mimetype": "text/x-python",
   "name": "python",
   "nbconvert_exporter": "python",
   "pygments_lexer": "ipython3",
   "version": "3.6.5"
  }
 },
 "nbformat": 4,
 "nbformat_minor": 2
}
