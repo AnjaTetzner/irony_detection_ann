{
 "cells": [
  {
   "cell_type": "code",
   "execution_count": null,
   "metadata": {},
   "outputs": [],
   "source": [
    "import pandas as pd\n",
    "import numpy as np"
   ]
  },
  {
   "cell_type": "code",
   "execution_count": null,
   "metadata": {},
   "outputs": [],
   "source": [
    "output= 'output_trainTestData/'"
   ]
  },
  {
   "cell_type": "code",
   "execution_count": null,
   "metadata": {},
   "outputs": [],
   "source": [
    "def read_data_from_file(file):\n",
    "    data =[]\n",
    "    with open(file, 'r') as f:\n",
    "        for line in f:\n",
    "            data.append([int(i) for i in line.split(',')])\n",
    "    data = np.asarray(data)\n",
    "    return data\n",
    "\n",
    "def read_labels_from_file(file):\n",
    "    labels = []\n",
    "    with open(file, 'r') as label:\n",
    "        for line in label:\n",
    "            labels.append(int(line))\n",
    "    return labels\n",
    "\n",
    "def read_wordindex_from_file(file):\n",
    "    word_index = {}\n",
    "    with open(file, 'r', encoding=\"utf-8\") as index:\n",
    "        for line in index:\n",
    "            line = line.rstrip().split('\\t')\n",
    "            value = int(line[1])\n",
    "            word_index.update({line[0]:value}) \n",
    "    return word_index"
   ]
  },
  {
   "cell_type": "markdown",
   "metadata": {},
   "source": [
    "## SamEval2018"
   ]
  },
  {
   "cell_type": "code",
   "execution_count": null,
   "metadata": {},
   "outputs": [],
   "source": [
    "file_sameval_train_data = output + 'SamEval_train_data.csv'\n",
    "file_sameval_train_labels = output + 'SamEval_train_labels.csv'\n",
    "file_sameval_test_data = output + 'SamEval_test_data.csv'\n",
    "file_sameval_test_labels = output + 'SamEval_test_labels.csv'\n",
    "file_sameval_word_index = output + 'SamEval_word_index.csv'"
   ]
  },
  {
   "cell_type": "code",
   "execution_count": null,
   "metadata": {},
   "outputs": [],
   "source": [
    "def samEval():\n",
    "    train_data = read_data_from_file(file_sameval_train_data)\n",
    "    train_labels = read_labels_from_file(file_sameval_train_labels)\n",
    "    test_data = read_data_from_file(file_sameval_test_data)\n",
    "    test_labels = read_labels_from_file(file_sameval_test_labels)\n",
    "    word_index = read_wordindex_from_file(file_sameval_word_index)  \n",
    "            \n",
    "    max_sequence_length = 40\n",
    "    \n",
    "    return train_data, train_labels, test_data, test_labels, word_index, max_sequence_length"
   ]
  },
  {
   "cell_type": "markdown",
   "metadata": {},
   "source": [
    "### Task B"
   ]
  },
  {
   "cell_type": "code",
   "execution_count": null,
   "metadata": {},
   "outputs": [],
   "source": [
    "file_sameval_b_train_data = output + 'SamEval_B_train_data.csv'\n",
    "file_sameval_b_train_labels = output + 'SamEval_B_train_labels.csv'\n",
    "file_sameval_b_test_data = output + 'SamEval_B_test_data.csv'\n",
    "file_sameval_b_test_labels = output + 'SamEval_B_test_labels.csv'\n",
    "file_sameval_b_word_index = output + 'SamEval_B_word_index.csv'"
   ]
  },
  {
   "cell_type": "code",
   "execution_count": null,
   "metadata": {},
   "outputs": [],
   "source": [
    "def samEval_Taskb():\n",
    "    train_data = read_data_from_file(file_sameval_b_train_data)\n",
    "    train_labels = read_labels_from_file(file_sameval_b_train_labels)\n",
    "    test_data = read_data_from_file(file_sameval_b_test_data)\n",
    "    test_labels = read_labels_from_file(file_sameval_b_test_labels)\n",
    "    word_index = read_wordindex_from_file(file_sameval_b_word_index)  \n",
    "            \n",
    "    max_sequence_length = 40\n",
    "    \n",
    "    return train_data, train_labels, test_data, test_labels, word_index, max_sequence_length"
   ]
  },
  {
   "cell_type": "markdown",
   "metadata": {},
   "source": [
    "### with #irony"
   ]
  },
  {
   "cell_type": "code",
   "execution_count": null,
   "metadata": {},
   "outputs": [],
   "source": [
    "file_sameval_train_data_hash = output + 'SamEval_train_data_hash.csv'\n",
    "file_sameval_train_labels_hash = output + 'SamEval_train_labels_hash.csv'\n",
    "file_sameval_test_data_hash = output + 'SamEval_test_data_hash.csv'\n",
    "file_sameval_test_labels_hash = output + 'SamEval_test_labels_hash.csv'\n",
    "file_sameval_word_index_hash = output + 'SamEval_word_index_hash.csv'"
   ]
  },
  {
   "cell_type": "code",
   "execution_count": null,
   "metadata": {},
   "outputs": [],
   "source": [
    "def samEval_hash():\n",
    "    train_data = read_data_from_file(file_sameval_train_data_hash)\n",
    "    train_labels = read_labels_from_file(file_sameval_train_labels_hash)\n",
    "    test_data = read_data_from_file(file_sameval_test_data_hash)\n",
    "    test_labels = read_labels_from_file(file_sameval_test_labels_hash)\n",
    "    word_index = read_wordindex_from_file(file_sameval_word_index_hash)  \n",
    "            \n",
    "    max_sequence_length = 40\n",
    "    \n",
    "    return train_data, train_labels, test_data, test_labels, word_index, max_sequence_length"
   ]
  },
  {
   "cell_type": "markdown",
   "metadata": {},
   "source": [
    "### Lower cased"
   ]
  },
  {
   "cell_type": "code",
   "execution_count": null,
   "metadata": {},
   "outputs": [],
   "source": [
    "def samEval_lowercase():\n",
    "    train_data = read_data_from_file('output_trainTestData/sameval_lower_train_data_preprocessed.csv')\n",
    "    train_labels = read_labels_from_file('output_trainTestData/sameval_lower_train_labelsreprocessed.csv')\n",
    "    test_data = read_data_from_file('output_trainTestData/sameval_lower_test_datareprocessed.csv')\n",
    "    test_labels = read_labels_from_file('output_trainTestData/sameval_lower_test_labelsreprocessed.csv')\n",
    "    word_index = read_wordindex_from_file('output_trainTestData/sameval_lower_word_indexreprocessed.csv') \n",
    "     \n",
    "    max_sequence_length = 40\n",
    "    \n",
    "    return train_data, train_labels, test_data, test_labels, word_index, max_sequence_length"
   ]
  },
  {
   "cell_type": "markdown",
   "metadata": {},
   "source": [
    "### Removed Stopwords"
   ]
  },
  {
   "cell_type": "code",
   "execution_count": null,
   "metadata": {},
   "outputs": [],
   "source": [
    "def samEval_stopword():\n",
    "    train_data = read_data_from_file('output_trainTestData/sameval_stopword_train_data_preprocessed.csv')\n",
    "    train_labels = read_labels_from_file('output_trainTestData/sameval_stopword_train_labels_prepocessed.csv')\n",
    "    test_data = read_data_from_file('output_trainTestData/sameval_stopword_test_data_prepocessed.csv')\n",
    "    test_labels = read_labels_from_file('output_trainTestData/sameval_stopword_test_labels_prepocessed.csv')\n",
    "    word_index = read_wordindex_from_file('output_trainTestData/sameval_stopword_word_index_prepocessed.csv') \n",
    "     \n",
    "    max_sequence_length = 33\n",
    "    \n",
    "    return train_data, train_labels, test_data, test_labels, word_index, max_sequence_length"
   ]
  },
  {
   "cell_type": "markdown",
   "metadata": {},
   "source": [
    "### Remove punctuation"
   ]
  },
  {
   "cell_type": "code",
   "execution_count": null,
   "metadata": {},
   "outputs": [],
   "source": [
    "def samEval_punctuation():\n",
    "    train_data = read_data_from_file('output_trainTestData/sameval_punctuation_train_data_preprocessed.csv')\n",
    "    train_labels = read_labels_from_file('output_trainTestData/sameval_punctuation_train_labels_preprocessed.csv')\n",
    "    test_data = read_data_from_file('output_trainTestData/sameval_punctuation_test_data_preprocessed.csv')\n",
    "    test_labels = read_labels_from_file('output_trainTestData/sameval_punctuation_test_labels_preprocessed.csv')\n",
    "    word_index = read_wordindex_from_file('output_trainTestData/sameval_punctuation_word_index_preprocessed.csv') \n",
    "     \n",
    "    max_sequence_length = 32\n",
    "    \n",
    "    return train_data, train_labels, test_data, test_labels, word_index, max_sequence_length"
   ]
  },
  {
   "cell_type": "markdown",
   "metadata": {},
   "source": [
    "### Lemmatized"
   ]
  },
  {
   "cell_type": "code",
   "execution_count": null,
   "metadata": {},
   "outputs": [],
   "source": [
    "def samEval_lemma():\n",
    "    train_data = read_data_from_file('output_trainTestData/sameval_lemma_train_data_preprocessed.csv')\n",
    "    train_labels = read_labels_from_file('output_trainTestData/sameval_lemma_train_labels_preprocessed.csv')\n",
    "    test_data = read_data_from_file('output_trainTestData/sameval_lemma_test_data_preprocessed.csv')\n",
    "    test_labels = read_labels_from_file('output_trainTestData/sameval_lemma_test_labels_preprocessed.csv')\n",
    "    word_index = read_wordindex_from_file('output_trainTestData/sameval_lemma_word_index_preprocessed.csv') \n",
    "     \n",
    "    max_sequence_length = 40\n",
    "    \n",
    "    return train_data, train_labels, test_data, test_labels, word_index, max_sequence_length"
   ]
  },
  {
   "cell_type": "markdown",
   "metadata": {},
   "source": [
    "### Lowercasing + remove stopwords"
   ]
  },
  {
   "cell_type": "code",
   "execution_count": null,
   "metadata": {},
   "outputs": [],
   "source": [
    "def samEval_bestpp():\n",
    "    train_data = read_data_from_file('output_trainTestData/sameval_bestpp_train_data_preprocessed.csv')\n",
    "    train_labels = read_labels_from_file('output_trainTestData/sameval_bestpp_train_labels_preprocessed.csv')\n",
    "    test_data = read_data_from_file('output_trainTestData/sameval_bestpp_test_data_preprocessed.csv')\n",
    "    test_labels = read_labels_from_file('output_trainTestData/sameval_bestpp_test_labels_preprocessed.csv')\n",
    "    word_index = read_wordindex_from_file('output_trainTestData/sameval_bestpp_word_index_preprocessed.csv') \n",
    "     \n",
    "    max_sequence_length = 33\n",
    "    \n",
    "    return train_data, train_labels, test_data, test_labels, word_index, max_sequence_length"
   ]
  },
  {
   "cell_type": "markdown",
   "metadata": {},
   "source": [
    "### With usermention"
   ]
  },
  {
   "cell_type": "code",
   "execution_count": null,
   "metadata": {},
   "outputs": [],
   "source": [
    "def samEval_username():\n",
    "    train_data = read_data_from_file('output_trainTestData/sameval_username_train_data_preprocessed.csv')\n",
    "    train_labels = read_labels_from_file('output_trainTestData/sameval_username_train_labels_preprocessed.csv')\n",
    "    test_data = read_data_from_file('output_trainTestData/sameval_username_test_data_preprocessed.csv')\n",
    "    test_labels = read_labels_from_file('output_trainTestData/sameval_username_test_labels_preprocessed.csv')\n",
    "    word_index = read_wordindex_from_file('output_trainTestData/sameval_username_word_index_preprocessed.csv') \n",
    "     \n",
    "    max_sequence_length = 40\n",
    "    \n",
    "    return train_data, train_labels, test_data, test_labels, word_index, max_sequence_length"
   ]
  },
  {
   "cell_type": "markdown",
   "metadata": {},
   "source": [
    "## Reyes, Rosso and Veale (2013)"
   ]
  },
  {
   "cell_type": "code",
   "execution_count": null,
   "metadata": {},
   "outputs": [],
   "source": [
    "file_reyesall_train_data = output + 'reyes_train_data.csv'\n",
    "file_reyesall_train_labelsbinary = output + 'reyes_train_labelsbinary.csv'\n",
    "file_reyesall_train_labelsmulty = output + 'reyes_train_labelsmulty.csv'\n",
    "file_reyesall_test_data = output + 'reyes_test_data.csv'\n",
    "file_reyesall_test_labelsbinary = output + 'reyes_test_labelsbinary.csv'\n",
    "file_reyesall_test_labelsmulty = output + 'reyes_test_labelmulty.csv'\n",
    "file_reyesall_word_index = output + 'reyes_word_index.csv'\n",
    "\n",
    "file_reyesivse_train_data = output + 'reyes_i_e_train_data.csv'\n",
    "file_reyesivse_train_labels = output + 'reyes_i_e_train_labels.csv'\n",
    "file_reyesivse_test_data = output + 'reyes_i_e_test_data.csv'\n",
    "file_reyesivse_test_labels = output + 'reyes_i_e_test_labels.csv'\n",
    "file_reyesivse_word_index = output + 'reyes_i_e_word_index.csv'\n",
    "\n",
    "file_reyesivsh_train_data = output + 'reyes_i_h_train_data.csv'\n",
    "file_reyesivsh_train_labels = output + 'reyes_i_h_train_labels.csv'\n",
    "file_reyesivsh_test_data = output + 'reyes_i_h_test_data.csv'\n",
    "file_reyesivsh_test_labels = output + 'reyes_i_h_test_labels.csv'\n",
    "file_reyesivsh_word_index = output + 'reyes_i_h_word_index.csv'\n",
    "\n",
    "file_reyesivsp_train_data = output + 'reyes_i_p_train_data.csv'\n",
    "file_reyesivsp_train_labels = output + 'reyes_i_p_train_labels.csv'\n",
    "file_reyesivsp_test_data = output + 'reyes_i_p_test_data.csv'\n",
    "file_reyesivsp_test_labels = output + 'reyes_i_p_test_labels.csv'\n",
    "file_reyesivsp_word_index = output + 'reyes_i_p_word_index.csv'"
   ]
  },
  {
   "cell_type": "code",
   "execution_count": null,
   "metadata": {},
   "outputs": [],
   "source": [
    "def reyesAll():\n",
    "    train_data = read_data_from_file(file_reyesall_train_data)\n",
    "    train_labelsbinary = read_labels_from_file(file_reyesall_train_labelsbinary)\n",
    "    train_labelsmulty = read_labels_from_file(file_reyesall_train_labelsmulty)\n",
    "    test_data = read_data_from_file(file_reyesall_test_data)\n",
    "    test_labelsbinary = read_labels_from_file(file_reyesall_test_labelsbinary)\n",
    "    test_labelsmulty = read_labels_from_file(file_reyesall_test_labelsmulty)\n",
    "    word_index = read_wordindex_from_file(file_reyesall_word_index)  \n",
    "            \n",
    "    #got from Productive_Data_ReadAndPreprocess    \n",
    "    max_sequence_length = 167\n",
    "    \n",
    "    return train_data, train_labelsbinary, train_labelsmulty, test_data, test_labelsbinary, test_labelsmulty, word_index, max_sequence_length"
   ]
  },
  {
   "cell_type": "code",
   "execution_count": null,
   "metadata": {},
   "outputs": [],
   "source": [
    "def reyesIronyVsEducation():\n",
    "    train_data = read_data_from_file(file_reyesivse_train_data)\n",
    "    train_labels = read_labels_from_file(file_reyesivse_train_labels)\n",
    "    test_data = read_data_from_file(file_reyesivse_test_data)\n",
    "    test_labels = read_labels_from_file(file_reyesivse_test_labels)\n",
    "    word_index = read_wordindex_from_file(file_reyesivse_word_index)  \n",
    "            \n",
    "    #got from Productive_Data_ReadAndPreprocess    \n",
    "    max_sequence_length = 99\n",
    "    \n",
    "    return train_data, train_labels, test_data, test_labels, word_index, max_sequence_length"
   ]
  },
  {
   "cell_type": "code",
   "execution_count": null,
   "metadata": {},
   "outputs": [],
   "source": [
    "def reyesIronyVsHumor():\n",
    "    train_data = read_data_from_file(file_reyesivsh_train_data)\n",
    "    train_labels = read_labels_from_file(file_reyesivsh_train_labels)\n",
    "    test_data = read_data_from_file(file_reyesivsh_test_data)\n",
    "    test_labels = read_labels_from_file(file_reyesivsh_test_labels)\n",
    "    word_index = read_wordindex_from_file(file_reyesivsh_word_index)  \n",
    "            \n",
    "    #got from Productive_Data_ReadAndPreprocess    \n",
    "    max_sequence_length = 90\n",
    "    \n",
    "    return train_data, train_labels, test_data, test_labels, word_index, max_sequence_length"
   ]
  },
  {
   "cell_type": "code",
   "execution_count": null,
   "metadata": {},
   "outputs": [],
   "source": [
    "def reyesIronyVsPolitics():\n",
    "    train_data = read_data_from_file(file_reyesivsp_train_data)\n",
    "    train_labels = read_labels_from_file(file_reyesivsp_train_labels)\n",
    "    test_data = read_data_from_file(file_reyesivsp_test_data)\n",
    "    test_labels = read_labels_from_file(file_reyesivsp_test_labels)\n",
    "    word_index = read_wordindex_from_file(file_reyesivsp_word_index)  \n",
    "            \n",
    "    #got from Productive_Data_ReadAndPreprocess    \n",
    "    max_sequence_length = 167\n",
    "    \n",
    "    return train_data, train_labels, test_data, test_labels, word_index, max_sequence_length"
   ]
  },
  {
   "cell_type": "markdown",
   "metadata": {},
   "source": [
    "# Ghosh, Fabri and Muresan (2017)"
   ]
  },
  {
   "cell_type": "code",
   "execution_count": null,
   "metadata": {},
   "outputs": [],
   "source": [
    "file_ghosh_train_data = output + 'Ghosh_train_data.csv'\n",
    "file_ghosh_train_labels = output + 'Ghosh_train_labels.csv'\n",
    "file_ghosh_test_data = output + 'Ghosh_test_data.csv'\n",
    "file_ghosh_test_labels = output + 'Ghosh_test_labels.csv'\n",
    "file_ghosh_word_index = output + 'Ghosh_word_index.csv'"
   ]
  },
  {
   "cell_type": "code",
   "execution_count": null,
   "metadata": {},
   "outputs": [],
   "source": [
    "def ghosh():\n",
    "    train_data = read_data_from_file(file_ghosh_train_data)\n",
    "    train_labels = read_labels_from_file(file_ghosh_train_labels)\n",
    "    test_data = read_data_from_file(file_ghosh_test_data)\n",
    "    test_labels = read_labels_from_file(file_ghosh_test_labels)\n",
    "    word_index = read_wordindex_from_file(file_ghosh_word_index)  \n",
    "            \n",
    "    max_sequence_length = 1894\n",
    "    \n",
    "    return train_data, train_labels, test_data, test_labels, word_index, max_sequence_length"
   ]
  },
  {
   "cell_type": "markdown",
   "metadata": {},
   "source": [
    "# IronITA2018"
   ]
  },
  {
   "cell_type": "code",
   "execution_count": null,
   "metadata": {},
   "outputs": [],
   "source": [
    "file_ironita_train_data = output + 'ironita_train_data.csv'\n",
    "file_ironita_train_labels = output + 'ironita_train_labels.csv'\n",
    "file_ironita_train_labels_sarcasm = output + 'ironita_train_labels_sarcasm.csv'\n",
    "file_ironita_test_data = output + 'ironita_test_data.csv'\n",
    "file_ironita_test_labels = output + 'ironita_test_labels.csv'\n",
    "file_ironita_test_labels_sarcasm = output + 'ironita_test_labels_sarcasm.csv'\n",
    "file_ironita_word_index = output + 'ironita_word_index.csv'"
   ]
  },
  {
   "cell_type": "code",
   "execution_count": null,
   "metadata": {},
   "outputs": [],
   "source": [
    "def ironita():\n",
    "    train_data = read_data_from_file(file_ironita_train_data)\n",
    "    train_labels = read_labels_from_file(file_ironita_train_labels)\n",
    "    train_labels_sarcasm = read_labels_from_file(file_ironita_train_labels_sarcasm)\n",
    "    test_data = read_data_from_file(file_ironita_test_data)\n",
    "    test_labels = read_labels_from_file(file_ironita_test_labels)\n",
    "    test_labels_sarcasm = read_labels_from_file(file_ironita_test_labels_sarcasm)\n",
    "    word_index = read_wordindex_from_file(file_ironita_word_index)  \n",
    "            \n",
    "    max_sequence_length = 39\n",
    "    \n",
    "    return train_data, train_labels, train_labels_sarcasm, test_data, test_labels, test_labels_sarcasm, word_index, max_sequence_length"
   ]
  },
  {
   "cell_type": "markdown",
   "metadata": {},
   "source": [
    "# Ravi and Ravi (2017)"
   ]
  },
  {
   "cell_type": "code",
   "execution_count": null,
   "metadata": {},
   "outputs": [],
   "source": [
    "file_ravi_train_data = output + 'ravi_train_data.csv'\n",
    "file_ravi_train_labels = output + 'ravi_train_labels.csv'\n",
    "file_ravi_test_data = output + 'ravi_test_data.csv'\n",
    "file_ravi_test_labels = output + 'ravi_test_labels.csv'\n",
    "file_ravi_word_index = output + 'ravi_word_index.csv'"
   ]
  },
  {
   "cell_type": "code",
   "execution_count": null,
   "metadata": {},
   "outputs": [],
   "source": [
    "def ravi():\n",
    "    train_data = read_data_from_file(file_ravi_train_data)\n",
    "    train_labels = read_labels_from_file(file_ravi_train_labels)\n",
    "    test_data = read_data_from_file(file_ravi_test_data)\n",
    "    test_labels = read_labels_from_file(file_ravi_test_labels)\n",
    "    word_index = read_wordindex_from_file(file_ravi_word_index)  \n",
    "            \n",
    "    max_sequence_length = 1233\n",
    "    \n",
    "    return train_data, train_labels, test_data, test_labels, word_index, max_sequence_length"
   ]
  },
  {
   "cell_type": "markdown",
   "metadata": {},
   "source": [
    "# SentiPOLC2016"
   ]
  },
  {
   "cell_type": "code",
   "execution_count": null,
   "metadata": {},
   "outputs": [],
   "source": [
    "file_sentipolc_train_data = output + 'sentipolc_train_data.csv'\n",
    "file_sentipolc_train_label_irony = output + 'sentipolc_train_labelirony.csv'\n",
    "file_sentipolc_train_label_opos = output + 'sentipolc_train_labelopos.csv'\n",
    "file_sentipolc_train_label_oneg = output + 'sentipolc_train_labeloneg.csv'\n",
    "file_sentipolc_train_label_lpos = output + 'sentipolc_train_labellpos.csv'\n",
    "file_sentipolc_train_label_lneg = output + 'sentipolc_train_labellneg.csv'\n",
    "file_sentipolc_test_data = output + 'sentipolc_test_data.csv'\n",
    "file_sentipolc_test_label_irony = output + 'sentipolc_test_labelirony.csv'\n",
    "file_sentipolc_test_label_opos = output + 'sentipolc_test_labelopos.csv'\n",
    "file_sentipolc_test_label_oneg = output + 'sentipolc_test_labeloneg.csv'\n",
    "file_sentipolc_test_label_lpos = output + 'sentipolc_test_labellpos.csv'\n",
    "file_sentipolc_test_label_lneg = output + 'sentipolc_test_labelneg.csv'\n",
    "file_sentipolc_word_index = output + 'sentipolc_word_index.csv'"
   ]
  },
  {
   "cell_type": "code",
   "execution_count": null,
   "metadata": {},
   "outputs": [],
   "source": [
    "def sentipolc():\n",
    "    train_data = read_data_from_file(file_sentipolc_train_data)\n",
    "    train_labels_irony = read_labels_from_file(file_sentipolc_train_label_irony)\n",
    "    train_labels_opos = read_labels_from_file(file_sentipolc_train_label_opos)\n",
    "    train_labels_oneg =read_labels_from_file(file_sentipolc_train_label_oneg)\n",
    "    train_labels_lpos = read_labels_from_file(file_sentipolc_train_label_lpos)\n",
    "    train_labels_lneg = read_labels_from_file(file_sentipolc_train_label_lneg)\n",
    "    \n",
    "    test_data = read_data_from_file(file_sentipolc_test_data)\n",
    "    test_labels_irony = read_labels_from_file(file_sentipolc_test_label_irony)\n",
    "    test_labels_opos = read_labels_from_file(file_sentipolc_test_label_opos)\n",
    "    test_labels_oneg = read_labels_from_file(file_sentipolc_test_label_oneg)\n",
    "    test_labels_lpos = read_labels_from_file(file_sentipolc_test_label_lpos)\n",
    "    test_labels_lneg = read_labels_from_file(file_sentipolc_test_label_lneg)\n",
    "    \n",
    "    word_index = read_wordindex_from_file(file_sentipolc_word_index )  \n",
    "            \n",
    "    max_sequence_length = 43\n",
    "    \n",
    "    return train_data, train_labels_irony, train_labels_opos, train_labels_oneg, train_labels_lpos, train_labels_lneg, test_data, test_labels_irony, test_labels_opos, test_labels_oneg, test_labels_lpos, test_labels_lneg, word_index, max_sequence_length"
   ]
  },
  {
   "cell_type": "markdown",
   "metadata": {},
   "source": [
    "# Wallace, Choe, Kertz and Charnika (2014) "
   ]
  },
  {
   "cell_type": "code",
   "execution_count": null,
   "metadata": {},
   "outputs": [],
   "source": [
    "file_wallace_train_data = output + 'wallace_train_data.csv'\n",
    "file_wallace_train_labels = output + 'wallace_train_labels.csv'\n",
    "file_wallace_test_data = output + 'wallace_test_data.csv'\n",
    "file_wallace_test_labels = output + 'wallace_test_labels.csv'\n",
    "file_wallace_word_index = output + 'wallace_word_index.csv'"
   ]
  },
  {
   "cell_type": "code",
   "execution_count": null,
   "metadata": {},
   "outputs": [],
   "source": [
    "def wallace():\n",
    "    train_data = read_data_from_file(file_wallace_train_data)\n",
    "    train_labels = read_labels_from_file(file_wallace_train_labels)\n",
    "    test_data = read_data_from_file(file_wallace_test_data)\n",
    "    test_labels = read_labels_from_file(file_wallace_test_labels)\n",
    "    word_index = read_wordindex_from_file(file_wallace_word_index)  \n",
    "            \n",
    "    max_sequence_length = 891\n",
    "    \n",
    "    return train_data, train_labels, test_data, test_labels, word_index, max_sequence_length"
   ]
  },
  {
   "cell_type": "markdown",
   "metadata": {},
   "source": [
    "# Tetzner (2019)"
   ]
  },
  {
   "cell_type": "code",
   "execution_count": null,
   "metadata": {},
   "outputs": [],
   "source": [
    "file_tetzner_train_data = output + 'tetzner_train_data.csv'\n",
    "file_tetzner_train_labels_polarity = output + 'tetzner_train_labels_polarity.csv'\n",
    "file_tetzner_train_labels_ironyform = output + 'tetzner_train_labels_ironyform.csv'\n",
    "file_tetzner_train_labels_change = output + 'tetzner_train_labels_change.csv'\n",
    "file_tetzner_train_labels_ironybinary = output + 'tetzner_train_labels_ironybinary.csv'\n",
    "file_tetzner_train_labels_ironymulty = output + 'tetzner_train_labels_ironymulty.csv'\n",
    "file_tetzner_test_data = output + 'tetzner_test_data.csv'\n",
    "file_tetzner_test_labels_polarity = output + 'tetzner_test_labels_polarity.csv'\n",
    "file_tetzner_test_labels_ironyform = output + 'tetzner_test_labels_ironyform.csv'\n",
    "file_tetzner_test_labels_change = output + 'tetzner_test_labels_change.csv'\n",
    "file_tetzner_test_labels_ironybinary = output + 'tetzner_test_labels_ironybinary.csv'\n",
    "file_tetzner_test_labels_ironymulty = output + 'tetzner_test_labels_ironymulty.csv'\n",
    "file_tetzner_word_index = output + 'tetzner_word_index.csv'"
   ]
  },
  {
   "cell_type": "code",
   "execution_count": null,
   "metadata": {},
   "outputs": [],
   "source": [
    "def tetzner():\n",
    "    train_data = read_data_from_file(file_tetzner_train_data)\n",
    "    train_labels_polarity = read_labels_from_file(file_tetzner_train_labels_polarity)\n",
    "    train_labels_ironyform = read_labels_from_file(file_tetzner_train_labels_ironyform)\n",
    "    train_labels_change =read_labels_from_file(file_tetzner_train_labels_change)\n",
    "    train_labels_ironybinary = read_labels_from_file(file_tetzner_train_labels_ironybinary)\n",
    "    train_labels_ironymulty = read_labels_from_file(file_tetzner_train_labels_ironymulty)\n",
    "    \n",
    "    test_data = read_data_from_file(file_tetzner_test_data)\n",
    "    test_labels_polarity = read_labels_from_file(file_tetzner_test_labels_polarity)\n",
    "    test_labels_ironyform = read_labels_from_file(file_tetzner_test_labels_ironyform)\n",
    "    test_labels_change = read_labels_from_file(file_tetzner_test_labels_change)\n",
    "    test_labels_ironybinary = read_labels_from_file(file_tetzner_test_labels_ironybinary)\n",
    "    test_labels_ironymulty = read_labels_from_file(file_tetzner_test_labels_ironymulty)\n",
    "    \n",
    "    word_index = read_wordindex_from_file(file_tetzner_word_index )  \n",
    "            \n",
    "    max_sequence_length = 73\n",
    "    \n",
    "    return train_data, train_labels_polarity, train_labels_ironyform, train_labels_change, train_labels_ironybinary, train_labels_ironymulty, test_data, test_labels_polarity, test_labels_ironyform, test_labels_change, test_labels_ironybinary, test_labels_ironymulty, word_index, max_sequence_length"
   ]
  },
  {
   "cell_type": "markdown",
   "metadata": {},
   "source": [
    "# Tetzner (2019) balanced"
   ]
  },
  {
   "cell_type": "code",
   "execution_count": null,
   "metadata": {},
   "outputs": [],
   "source": [
    "file_tetzner_balanced_train_data = output + 'tetzner_train_data_balanced.csv'\n",
    "file_tetzner_balanced_train_labels_polarity = output + 'tetzner_train_labels_polarity_balanced.csv'\n",
    "file_tetzner_balanced_train_labels_ironyform = output + 'tetzner_train_labels_ironyform_balanced.csv'\n",
    "file_tetzner_balanced_train_labels_change = output + 'tetzner_train_labels_change_balanced.csv'\n",
    "file_tetzner_balanced_train_labels_ironybinary = output + 'tetzner_train_labels_ironybinary_balanced.csv'\n",
    "file_tetzner_balanced_train_labels_ironymulty = output + 'tetzner_train_labels_ironymulty_balanced.csv'\n",
    "file_tetzner_balanced_test_data = output + 'tetzner_test_data_balanced.csv'\n",
    "file_tetzner_balanced_test_labels_polarity = output + 'tetzner_test_labels_polarity_balanced.csv'\n",
    "file_tetzner_balanced_test_labels_ironyform = output + 'tetzner_test_labels_ironyform_balanced.csv'\n",
    "file_tetzner_balanced_test_labels_change = output + 'tetzner_test_labels_change_balanced.csv'\n",
    "file_tetzner_balanced_test_labels_ironybinary = output + 'tetzner_test_labels_ironybinary_balanced.csv'\n",
    "file_tetzner_balanced_test_labels_ironymulty = output + 'tetzner_test_labels_ironymulty_balanced.csv'\n",
    "file_tetzner_balanced_word_index = output + 'tetzner_word_index_balanced.csv'"
   ]
  },
  {
   "cell_type": "code",
   "execution_count": null,
   "metadata": {},
   "outputs": [],
   "source": [
    "def tetzner_balanced():\n",
    "    train_data = read_data_from_file(file_tetzner_balanced_train_data)\n",
    "    train_labels_polarity = read_labels_from_file(file_tetzner_balanced_train_labels_polarity)\n",
    "    train_labels_ironyform = read_labels_from_file(file_tetzner_balanced_train_labels_ironyform)\n",
    "    train_labels_change =read_labels_from_file(file_tetzner_balanced_train_labels_change)\n",
    "    train_labels_ironybinary = read_labels_from_file(file_tetzner_balanced_train_labels_ironybinary)\n",
    "    train_labels_ironymulty = read_labels_from_file(file_tetzner_balanced_train_labels_ironymulty)\n",
    "    \n",
    "    test_data = read_data_from_file(file_tetzner_balanced_test_data)\n",
    "    test_labels_polarity = read_labels_from_file(file_tetzner_balanced_test_labels_polarity)\n",
    "    test_labels_ironyform = read_labels_from_file(file_tetzner_balanced_test_labels_ironyform)\n",
    "    test_labels_change = read_labels_from_file(file_tetzner_balanced_test_labels_change)\n",
    "    test_labels_ironybinary = read_labels_from_file(file_tetzner_balanced_test_labels_ironybinary)\n",
    "    test_labels_ironymulty = read_labels_from_file(file_tetzner_balanced_test_labels_ironymulty)\n",
    "    \n",
    "    word_index = read_wordindex_from_file(file_tetzner_balanced_word_index )  \n",
    "            \n",
    "    max_sequence_length = 69\n",
    "    \n",
    "    return train_data, train_labels_polarity, train_labels_ironyform, train_labels_change, train_labels_ironybinary, train_labels_ironymulty, test_data, test_labels_polarity, test_labels_ironyform, test_labels_change, test_labels_ironybinary, test_labels_ironymulty, word_index, max_sequence_length"
   ]
  },
  {
   "cell_type": "markdown",
   "metadata": {},
   "source": [
    "# Combination of samEval and IronITA"
   ]
  },
  {
   "cell_type": "code",
   "execution_count": null,
   "metadata": {},
   "outputs": [],
   "source": [
    "def samEval_ironita():\n",
    "    train_data = read_data_from_file(output + 'sam_ironita_train_data.csv')\n",
    "    train_labels = read_labels_from_file(output + 'sam_ironita_train_labels.csv')\n",
    "    test_data = read_data_from_file(output + 'sam_ironita_test_data.csv')\n",
    "    test_labels = read_labels_from_file(output + 'sam_ironita_test_labels.csv')\n",
    "    word_index = read_wordindex_from_file(output + 'sam_ironita_word_index.csv')  \n",
    "\n",
    "    max_sequence_length = 40\n",
    "    \n",
    "    return train_data, train_labels, test_data, test_labels, word_index, max_sequence_length"
   ]
  },
  {
   "cell_type": "markdown",
   "metadata": {},
   "source": [
    "# All english data sets"
   ]
  },
  {
   "cell_type": "code",
   "execution_count": null,
   "metadata": {},
   "outputs": [],
   "source": [
    "file_english_all_train_data = output + 'english_all_train_data_balanced.csv'\n",
    "file_english_all_train_labels = output + 'english_all_train_labels_balanced.csv'\n",
    "file_english_all_test_data = output + 'english_all_test_data_balanced.csv'\n",
    "file_english_all_test_labels = output + 'english_all_test_labels_balanced.csv'\n",
    "file_english_all_word_index = output + 'english_all_word_index_balanced.csv'"
   ]
  },
  {
   "cell_type": "code",
   "execution_count": null,
   "metadata": {},
   "outputs": [],
   "source": [
    "def allenglish():\n",
    "    train_data = read_data_from_file(file_english_all_train_data)\n",
    "    train_labels = read_labels_from_file(file_english_all_train_labels)\n",
    "    test_data = read_data_from_file(file_english_all_test_data)\n",
    "    test_labels = read_labels_from_file(file_english_all_test_labels)\n",
    "    word_index = read_wordindex_from_file(file_english_all_word_index)  \n",
    "            \n",
    "    max_sequence_length =  1513\n",
    "    \n",
    "    return train_data, train_labels, test_data, test_labels, word_index, max_sequence_length"
   ]
  }
 ],
 "metadata": {
  "kernelspec": {
   "display_name": "Python 3",
   "language": "python",
   "name": "python3"
  },
  "language_info": {
   "codemirror_mode": {
    "name": "ipython",
    "version": 3
   },
   "file_extension": ".py",
   "mimetype": "text/x-python",
   "name": "python",
   "nbconvert_exporter": "python",
   "pygments_lexer": "ipython3",
   "version": "3.6.5"
  }
 },
 "nbformat": 4,
 "nbformat_minor": 2
}
