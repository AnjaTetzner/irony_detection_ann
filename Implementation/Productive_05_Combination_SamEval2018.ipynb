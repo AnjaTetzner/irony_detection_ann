{
 "cells": [
  {
   "cell_type": "code",
   "execution_count": 1,
   "metadata": {},
   "outputs": [
    {
     "name": "stderr",
     "output_type": "stream",
     "text": [
      "C:\\Users\\twitter\\Anaconda3\\lib\\site-packages\\h5py\\__init__.py:36: FutureWarning: Conversion of the second argument of issubdtype from `float` to `np.floating` is deprecated. In future, it will be treated as `np.float64 == np.dtype(float).type`.\n",
      "  from ._conv import register_converters as _register_converters\n",
      "Using TensorFlow backend.\n"
     ]
    },
    {
     "name": "stdout",
     "output_type": "stream",
     "text": [
      "importing Jupyter notebook from Productive_CrossValidation_inclTest.ipynb\n",
      "importing Jupyter notebook from Productive_TimeHistory.ipynb\n",
      "importing Jupyter notebook from Productive_Data_GetTrainTest.ipynb\n"
     ]
    }
   ],
   "source": [
    "import numpy as np\n",
    "import random as rd\n",
    "import tensorflow as tf\n",
    "\n",
    "from keras.layers import Dense, Embedding, Flatten, Input, concatenate, average, minimum, maximum, add\n",
    "from keras.models import Model\n",
    "from keras.optimizers import Adagrad\n",
    "from keras.constraints import min_max_norm\n",
    "\n",
    "from sklearn import preprocessing\n",
    "\n",
    "#Import another jupyter notebook\n",
    "import import_ipynb\n",
    "from Productive_CrossValidation_inclTest import *\n",
    "from Productive_Data_GetTrainTest import samEval, samEval_bestpp, samEval_reyes"
   ]
  },
  {
   "cell_type": "code",
   "execution_count": 2,
   "metadata": {},
   "outputs": [],
   "source": [
    "#for reproducability of the results\n",
    "seed = 7\n",
    "np.random.seed(seed)\n",
    "tf.set_random_seed(seed)\n",
    "rd.seed(seed)"
   ]
  },
  {
   "cell_type": "code",
   "execution_count": 3,
   "metadata": {},
   "outputs": [],
   "source": [
    "path = 'data/'\n",
    "outputpath= 'outputs/05_combination_samEval2018/'"
   ]
  },
  {
   "cell_type": "code",
   "execution_count": 4,
   "metadata": {},
   "outputs": [],
   "source": [
    "#Load necessary data\n",
    "train_data, train_labels, test_data, test_labels, word_index, MAX_SEQUENCE_LENGTH = samEval_reyes()"
   ]
  },
  {
   "cell_type": "code",
   "execution_count": 5,
   "metadata": {},
   "outputs": [
    {
     "name": "stderr",
     "output_type": "stream",
     "text": [
      "C:\\Users\\twitter\\Anaconda3\\lib\\site-packages\\smart_open\\smart_open_lib.py:398: UserWarning: This function is deprecated, use smart_open.open instead. See the migration notes for details: https://github.com/RaRe-Technologies/smart_open/blob/master/README.rst#migrating-to-the-new-open-function\n",
      "  'See the migration notes for details: %s' % _MIGRATION_NOTES_URL\n",
      "C:\\Users\\twitter\\Anaconda3\\lib\\site-packages\\ipykernel_launcher.py:10: DeprecationWarning: Call to deprecated `wv` (Attribute will be removed in 4.0.0, use self instead).\n",
      "  # Remove the CWD from sys.path while we load stuff.\n"
     ]
    }
   ],
   "source": [
    "#Load pretrained embeddings\n",
    "import gensim\n",
    "from gensim.models import KeyedVectors\n",
    "\n",
    "#Pretrained Google News Embeddings, Dimension 300\n",
    "GOOGLEEMB = path + 'GoogleNews-vectors-negative300.bin'\n",
    "\n",
    "embedding= KeyedVectors.load_word2vec_format(GOOGLEEMB, binary=True)\n",
    "\n",
    "word_vectors = embedding.wv"
   ]
  },
  {
   "cell_type": "code",
   "execution_count": 6,
   "metadata": {},
   "outputs": [],
   "source": [
    "#Create embedding-matrix, serves the Keras Embedding Layer as weigths\n",
    "EMBEDDING_DIM=300\n",
    "\n",
    "embedding_matrix = np.zeros((len(word_index)+1, EMBEDDING_DIM))\n",
    "\n",
    "for word, i in word_index.items():\n",
    "    try:\n",
    "        embedding_vector = word_vectors[word]\n",
    "        embedding_matrix[i] = embedding_vector   \n",
    "    except:\n",
    "        # words not found in embeddings will be zero\n",
    "        pass"
   ]
  },
  {
   "cell_type": "markdown",
   "metadata": {},
   "source": [
    "#### POS Features"
   ]
  },
  {
   "cell_type": "code",
   "execution_count": 7,
   "metadata": {},
   "outputs": [],
   "source": [
    "#Load POS data\n",
    "def get_pos(file):\n",
    "    pos =[]\n",
    "    with open(file, 'r') as f:\n",
    "        for line in f:\n",
    "            pos.append([int(i) for i in line.split(',')])\n",
    "    pos= np.asarray(pos)\n",
    "    return pos\n",
    "\n",
    "train_pos =get_pos('output_trainTestData/SamReyes_all_train_pos.csv')\n",
    "test_pos = get_pos('output_trainTestData/SamReyes_all_test_pos.csv')"
   ]
  },
  {
   "cell_type": "markdown",
   "metadata": {},
   "source": [
    "#### Sentiment Features"
   ]
  },
  {
   "cell_type": "code",
   "execution_count": 8,
   "metadata": {},
   "outputs": [],
   "source": [
    "#Load Sentiment data\n",
    "def get_sentiment(file):\n",
    "    senti =[]\n",
    "    with open(file, 'r') as f:\n",
    "        for line in f:\n",
    "            senti.append([float(i) for i in line.split(',')])\n",
    "    senti= np.asarray(senti)\n",
    "    return senti\n",
    "\n",
    "train_senti_blob =get_sentiment('output_trainTestData/SamReyes_all_train_data_sentiment_blob.csv')\n",
    "test_senti_blob = get_sentiment('output_trainTestData/SamReyes_all_test_data_sentiment_blob.csv')"
   ]
  },
  {
   "cell_type": "markdown",
   "metadata": {},
   "source": [
    "# Train the model"
   ]
  },
  {
   "cell_type": "code",
   "execution_count": 12,
   "metadata": {},
   "outputs": [],
   "source": [
    "BATCH_SIZE = 64\n",
    "NUM_EPOCHS = 30\n",
    "softmax = True\n",
    "lossfunction ='binary_crossentropy'\n",
    "optimizer = Adagrad(lr=0.001)"
   ]
  },
  {
   "cell_type": "markdown",
   "metadata": {},
   "source": [
    "# Combine Stopp NaN and additional Data"
   ]
  },
  {
   "cell_type": "code",
   "execution_count": 10,
   "metadata": {},
   "outputs": [
    {
     "name": "stdout",
     "output_type": "stream",
     "text": [
      "WARNING:tensorflow:From C:\\Users\\twitter\\Anaconda3\\lib\\site-packages\\tensorflow\\python\\framework\\op_def_library.py:263: colocate_with (from tensorflow.python.framework.ops) is deprecated and will be removed in a future version.\n",
      "Instructions for updating:\n",
      "Colocations handled automatically by placer.\n",
      "__________________________________________________________________________________________________\n",
      "Layer (type)                    Output Shape         Param #     Connected to                     \n",
      "==================================================================================================\n",
      "input_1 (InputLayer)            (None, 99)           0                                            \n",
      "__________________________________________________________________________________________________\n",
      "embedding_1 (Embedding)         (None, 99, 300)      10195800    input_1[0][0]                    \n",
      "__________________________________________________________________________________________________\n",
      "dense_1 (Dense)                 (None, 99, 600)      180600      embedding_1[0][0]                \n",
      "__________________________________________________________________________________________________\n",
      "input_2 (InputLayer)            (None, 99)           0                                            \n",
      "__________________________________________________________________________________________________\n",
      "input_3 (InputLayer)            (None, 99)           0                                            \n",
      "__________________________________________________________________________________________________\n",
      "flatten_1 (Flatten)             (None, 59400)        0           dense_1[0][0]                    \n",
      "__________________________________________________________________________________________________\n",
      "dense_2 (Dense)                 (None, 600)          60000       input_2[0][0]                    \n",
      "__________________________________________________________________________________________________\n",
      "dense_3 (Dense)                 (None, 600)          60000       input_3[0][0]                    \n",
      "__________________________________________________________________________________________________\n",
      "concatenate_1 (Concatenate)     (None, 60600)        0           flatten_1[0][0]                  \n",
      "                                                                 dense_2[0][0]                    \n",
      "                                                                 dense_3[0][0]                    \n",
      "__________________________________________________________________________________________________\n",
      "dense_4 (Dense)                 (None, 2)            121202      concatenate_1[0][0]              \n",
      "==================================================================================================\n",
      "Total params: 10,617,602\n",
      "Trainable params: 10,617,602\n",
      "Non-trainable params: 0\n",
      "__________________________________________________________________________________________________\n"
     ]
    }
   ],
   "source": [
    "#First part\n",
    "wv_layer_combinestoppaddatta = Embedding(len(word_index)+1,\n",
    "                 EMBEDDING_DIM,\n",
    "                 weights=[embedding_matrix],\n",
    "                 input_length=MAX_SEQUENCE_LENGTH,\n",
    "                 trainable=True)\n",
    "\n",
    "comment_input_combinestoppaddatta = Input(shape=(MAX_SEQUENCE_LENGTH,), dtype='float32')\n",
    "embedded_sequences_combinestoppaddatta = wv_layer_combinestoppaddatta(comment_input_combinestoppaddatta)\n",
    "x_first_combinestoppaddatta = Dense(600, activation='relu')(embedded_sequences_combinestoppaddatta)\n",
    "x_first_combinestoppaddatta = Flatten()(x_first_combinestoppaddatta)\n",
    "\n",
    "#Second part\n",
    "senti_input_combinestoppaddatta_blob = Input(shape=(MAX_SEQUENCE_LENGTH,), dtype='float')\n",
    "x_second_combinestoppaddatta = Dense(600, activation='relu')(senti_input_combinestoppaddatta_blob)\n",
    "\n",
    "#Thrid part\n",
    "senti_input_combinestoppaddatta_pos = Input(shape=(MAX_SEQUENCE_LENGTH,), dtype='float')\n",
    "x_third_combinestoppaddatta = Dense(600, activation='relu')(senti_input_combinestoppaddatta_pos)\n",
    "\n",
    "#Concatination\n",
    "concat_combinestoppaddatta = concatenate([x_first_combinestoppaddatta, x_second_combinestoppaddatta, x_third_combinestoppaddatta])\n",
    "\n",
    "preds_combinestoppaddatta = Dense(2, activation='softmax')(concat_combinestoppaddatta)\n",
    "\n",
    "model_combinestoppaddatta = Model(inputs=[comment_input_combinestoppaddatta, senti_input_combinestoppaddatta_blob, senti_input_combinestoppaddatta_pos], outputs=preds_combinestoppaddatta)\n",
    "model_combinestoppaddatta.summary()"
   ]
  },
  {
   "cell_type": "code",
   "execution_count": 13,
   "metadata": {},
   "outputs": [
    {
     "name": "stdout",
     "output_type": "stream",
     "text": [
      "WARNING:tensorflow:From C:\\Users\\twitter\\Anaconda3\\lib\\site-packages\\tensorflow\\python\\ops\\math_ops.py:3066: to_int32 (from tensorflow.python.ops.math_ops) is deprecated and will be removed in a future version.\n",
      "Instructions for updating:\n",
      "Use tf.cast instead.\n"
     ]
    },
    {
     "data": {
      "image/png": "[encoded data removed]",
      "text/plain": [
       "<Figure size 1080x720 with 1 Axes>"
      ]
     },
     "metadata": {},
     "output_type": "display_data"
    },
    {
     "name": "stdout",
     "output_type": "stream",
     "text": [
      "\n",
      "-----Test Scores----\n",
      "Loss: 0.26410797356448407\n",
      "Accuracy: 86.93426173289438\n",
      "Precision: 85.6543624125145\n",
      "Recall: 87.33960649754749\n",
      "F1: 86.48877093920886\n"
     ]
    }
   ],
   "source": [
    "train_evaluate_three_inputs_with_terminate(model_combinestoppaddatta, NUM_EPOCHS, BATCH_SIZE, optimizer, lossfunction, train_data, train_senti_blob, train_pos, train_labels, test_data, test_senti_blob, test_pos, test_labels, softmax, outputpath, 'CombineStoppAddData')"
   ]
  }
 ],
 "metadata": {
  "kernelspec": {
   "display_name": "Python 3",
   "language": "python",
   "name": "python3"
  },
  "language_info": {
   "codemirror_mode": {
    "name": "ipython",
    "version": 3
   },
   "file_extension": ".py",
   "mimetype": "text/x-python",
   "name": "python",
   "nbconvert_exporter": "python",
   "pygments_lexer": "ipython3",
   "version": "3.6.5"
  }
 },
 "nbformat": 4,
 "nbformat_minor": 2
}
