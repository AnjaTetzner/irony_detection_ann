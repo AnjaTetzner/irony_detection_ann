{
 "cells": [
  {
   "cell_type": "code",
   "execution_count": 21,
   "metadata": {},
   "outputs": [],
   "source": [
    "import numpy as np\n",
    "import random as rd\n",
    "import tensorflow as tf\n",
    "\n",
    "from keras.layers import Dense, Embedding, Flatten, Input, concatenate\n",
    "from keras.models import Model\n",
    "from keras.optimizers import Adagrad\n",
    "\n",
    "#Import another jupyter notebook\n",
    "import import_ipynb\n",
    "from Productive_CrossValidation_inclTest import *\n",
    "from Productive_Data_GetTrainTest import samEval\n",
    "\n",
    "from gensim.models import Doc2Vec, Word2Vec\n",
    "from gensim.models import KeyedVectors"
   ]
  },
  {
   "cell_type": "code",
   "execution_count": 3,
   "metadata": {},
   "outputs": [],
   "source": [
    "#for reproducability of the results\n",
    "seed = 7\n",
    "np.random.seed(seed)\n",
    "tf.set_random_seed(seed)\n",
    "rd.seed(seed)"
   ]
  },
  {
   "cell_type": "code",
   "execution_count": 4,
   "metadata": {},
   "outputs": [],
   "source": [
    "path = 'data/'\n",
    "outputpath ='outputs/03_combinations_samEval2018/'"
   ]
  },
  {
   "cell_type": "code",
   "execution_count": 5,
   "metadata": {},
   "outputs": [],
   "source": [
    "#Load necessary data\n",
    "train_data, train_labels, test_data, test_labels, word_index, MAX_SEQUENCE_LENGTH = samEval()"
   ]
  },
  {
   "cell_type": "markdown",
   "metadata": {},
   "source": [
    "## Load an restore textdate"
   ]
  },
  {
   "cell_type": "code",
   "execution_count": 6,
   "metadata": {},
   "outputs": [],
   "source": [
    "def create_restore_text(index_file, data_file, MAXLEN):\n",
    "   \n",
    "    loaded_word_index = {}\n",
    "    with open(index_file, 'r', encoding='utf-8') as word_index: #Decoding utf-8, else exception\n",
    "        for line in word_index:\n",
    "            line = line.rstrip().split(\"\\t\")\n",
    "            loaded_word_index[line[0]] = line[1]  \n",
    "            \n",
    "    loaded_data =[]\n",
    "    with open(data_file, 'r', encoding='utf-8') as data: #Decoding utf-8, else exception\n",
    "        for line in data:\n",
    "            line = line.rstrip().split('\\n')\n",
    "            loaded_data.append(line) \n",
    "            \n",
    "    recunstructed_data = []\n",
    "    for line in loaded_data:\n",
    "        for string in line:\n",
    "            tweet = []\n",
    "            string = string.rstrip().split(',')\n",
    "            for item in string:\n",
    "                if item is not ('0'):\n",
    "                    for key, value in loaded_word_index.items():\n",
    "                        if value == item:\n",
    "                            tweet.append(key)\n",
    "            recunstructed_data.append(tweet)\n",
    "    return recunstructed_data"
   ]
  },
  {
   "cell_type": "code",
   "execution_count": 7,
   "metadata": {},
   "outputs": [],
   "source": [
    "train = create_restore_text('output_trainTestData/SamEval_word_index.csv','output_trainTestData/SamEval_train_data.csv', MAX_SEQUENCE_LENGTH)"
   ]
  },
  {
   "cell_type": "code",
   "execution_count": 8,
   "metadata": {},
   "outputs": [],
   "source": [
    "test = create_restore_text('output_trainTestData/SamEval_word_index.csv','output_trainTestData/SamEval_test_data.csv', MAX_SEQUENCE_LENGTH)"
   ]
  },
  {
   "cell_type": "markdown",
   "metadata": {},
   "source": [
    "### Embeddings on data set"
   ]
  },
  {
   "cell_type": "code",
   "execution_count": 11,
   "metadata": {},
   "outputs": [],
   "source": [
    "embeddingbasis = train\n",
    "\n",
    "for entry in test:\n",
    "    embeddingbasis.append(entry)\n",
    "    \n",
    "cbowmodel_300_3= Word2Vec(embeddingbasis, min_count = 1, size = 300, window = 3)\n",
    "\n",
    "EMBEDDING_DIM=300\n",
    "\n",
    "word_vectors_datasat = cbowmodel_300_3.wv\n",
    "\n",
    "embedding_matrix_dataset = np.zeros((len(word_index)+1, EMBEDDING_DIM))\n",
    "\n",
    "for word, i in word_index.items():\n",
    "    try:\n",
    "        embedding_vector = word_vectors_dataset[word]\n",
    "        embedding_matrix_dataset[i] = embedding_vector   \n",
    "    except:\n",
    "        # words not found in embeddings will be zero\n",
    "        pass"
   ]
  },
  {
   "cell_type": "markdown",
   "metadata": {},
   "source": [
    "### Pretrained embeddings on Word2Vec an Glove"
   ]
  },
  {
   "cell_type": "code",
   "execution_count": 14,
   "metadata": {},
   "outputs": [
    {
     "name": "stderr",
     "output_type": "stream",
     "text": [
      "C:\\Users\\twitter\\Anaconda3\\lib\\site-packages\\smart_open\\smart_open_lib.py:398: UserWarning: This function is deprecated, use smart_open.open instead. See the migration notes for details: https://github.com/RaRe-Technologies/smart_open/blob/master/README.rst#migrating-to-the-new-open-function\n",
      "  'See the migration notes for details: %s' % _MIGRATION_NOTES_URL\n",
      "C:\\Users\\twitter\\Anaconda3\\lib\\site-packages\\ipykernel_launcher.py:3: DeprecationWarning: Call to deprecated `wv` (Attribute will be removed in 4.0.0, use self instead).\n",
      "  This is separate from the ipykernel package so we can avoid doing imports until\n"
     ]
    }
   ],
   "source": [
    "def bin_embeddings(file):\n",
    "    embedding= KeyedVectors.load_word2vec_format(file, binary=True)\n",
    "    word_vectors_fasttesxt_wiki = embedding.wv\n",
    "    return word_vectors_fasttesxt_wiki\n",
    "\n",
    "def txt_embeddings(file):\n",
    "    embeddings = {}\n",
    "    with open(file, 'r', encoding='utf-8') as f:\n",
    "        for line in f:\n",
    "            values = line.split()\n",
    "            word = values[0]\n",
    "            coefs = np.asarray(values[1:], dtype='float32')\n",
    "            embeddings[word] = coefs\n",
    "    return embeddings\n",
    "\n",
    "def create_eb_matrix(eb_dict, dim):\n",
    "    EMBEDDING_DIM=dim\n",
    "\n",
    "    embedding_matrix= np.zeros((len(word_index)+1, EMBEDDING_DIM))\n",
    "\n",
    "    for word, i in word_index.items():\n",
    "        try:\n",
    "            embedding_vector = eb_dict[word]\n",
    "            embedding_matrix[i] = embedding_vector   \n",
    "        except:\n",
    "            # words not found in embeddings will be zero\n",
    "            pass\n",
    "    return embedding_matrix\n",
    "\n",
    "word_vectors_google = bin_embeddings(path+'GoogleNews-vectors-negative300.bin')\n",
    "word_vectors_glove = txt_embeddings(path+'glove.42B.300d.txt')\n",
    "EMBEDDING_DIM = 300\n",
    "embedding_matrix_google = create_eb_matrix(word_vectors_google,EMBEDDING_DIM)\n",
    "embedding_matrix_glove = create_eb_matrix(word_vectors_glove, EMBEDDING_DIM)"
   ]
  },
  {
   "cell_type": "markdown",
   "metadata": {},
   "source": [
    "### Aditional Features"
   ]
  },
  {
   "cell_type": "code",
   "execution_count": 15,
   "metadata": {},
   "outputs": [],
   "source": [
    "#Load POS data\n",
    "def get_pos(file):\n",
    "    pos =[]\n",
    "    with open(file, 'r') as f:\n",
    "        for line in f:\n",
    "            pos.append([int(i) for i in line.split(',')])\n",
    "    pos= np.asarray(pos)\n",
    "    return pos\n",
    "\n",
    "train_pos =get_pos('output_trainTestData/SamEval_train_pos.csv')\n",
    "test_pos = get_pos('output_trainTestData/SamEval_test_pos.csv')\n",
    "\n",
    "#Load Sentiment data\n",
    "def get_sentiment(file):\n",
    "    senti =[]\n",
    "    with open(file, 'r') as f:\n",
    "        for line in f:\n",
    "            senti.append([float(i) for i in line.split(',')])\n",
    "    senti= np.asarray(senti)\n",
    "    return senti\n",
    "\n",
    "train_senti_blob =get_sentiment('output_trainTestData/SamEval_train_data_sentiment_blob.csv')\n",
    "test_senti_blob = get_sentiment('output_trainTestData/SamEval_test_data_sentiment_blob.csv')\n"
   ]
  },
  {
   "cell_type": "markdown",
   "metadata": {},
   "source": [
    "### Word Embeddings on basis Doc2Vec"
   ]
  },
  {
   "cell_type": "code",
   "execution_count": 16,
   "metadata": {},
   "outputs": [
    {
     "name": "stderr",
     "output_type": "stream",
     "text": [
      "C:\\Users\\twitter\\Anaconda3\\lib\\site-packages\\smart_open\\smart_open_lib.py:398: UserWarning: This function is deprecated, use smart_open.open instead. See the migration notes for details: https://github.com/RaRe-Technologies/smart_open/blob/master/README.rst#migrating-to-the-new-open-function\n",
      "  'See the migration notes for details: %s' % _MIGRATION_NOTES_URL\n"
     ]
    }
   ],
   "source": [
    "doc_embed = Doc2Vec.load(path+'Doc2Vec.model')\n",
    "\n",
    "word_vectors_doc2vec = doc_embed.wv\n",
    "\n",
    "EMBEDDING_DIM=300\n",
    "\n",
    "embedding_matrix_doc2vec = np.zeros((len(word_index)+1, EMBEDDING_DIM))\n",
    "\n",
    "for word, i in word_index.items():\n",
    "    try:\n",
    "        embedding_vector = word_vectors[word]\n",
    "        embedding_matrix_doc2vec[i] = embedding_vector   \n",
    "    except:\n",
    "        # words not found in embeddings will be zero\n",
    "        pass"
   ]
  },
  {
   "cell_type": "markdown",
   "metadata": {},
   "source": [
    "# Train the model"
   ]
  },
  {
   "cell_type": "code",
   "execution_count": 17,
   "metadata": {
    "scrolled": false
   },
   "outputs": [
    {
     "name": "stdout",
     "output_type": "stream",
     "text": [
      "WARNING:tensorflow:From C:\\Users\\twitter\\Anaconda3\\lib\\site-packages\\tensorflow\\python\\framework\\op_def_library.py:263: colocate_with (from tensorflow.python.framework.ops) is deprecated and will be removed in a future version.\n",
      "Instructions for updating:\n",
      "Colocations handled automatically by placer.\n"
     ]
    }
   ],
   "source": [
    "NUM_EPOCHS = 30\n",
    "BATCH_SIZE = 64\n",
    "optimizer = Adagrad(lr=0.001)\n",
    "lossfunction = 'binary_crossentropy'\n",
    "softmax = True"
   ]
  },
  {
   "cell_type": "markdown",
   "metadata": {},
   "source": [
    "## Combine all features"
   ]
  },
  {
   "cell_type": "code",
   "execution_count": 24,
   "metadata": {},
   "outputs": [
    {
     "name": "stdout",
     "output_type": "stream",
     "text": [
      "__________________________________________________________________________________________________\n",
      "Layer (type)                    Output Shape         Param #     Connected to                     \n",
      "==================================================================================================\n",
      "input_22 (InputLayer)           (None, 40)           0                                            \n",
      "__________________________________________________________________________________________________\n",
      "input_23 (InputLayer)           (None, 40)           0                                            \n",
      "__________________________________________________________________________________________________\n",
      "input_26 (InputLayer)           (None, 40)           0                                            \n",
      "__________________________________________________________________________________________________\n",
      "embedding_18 (Embedding)        (None, 40, 300)      4118700     input_22[0][0]                   \n",
      "__________________________________________________________________________________________________\n",
      "embedding_19 (Embedding)        (None, 40, 300)      4118700     input_23[0][0]                   \n",
      "__________________________________________________________________________________________________\n",
      "embedding_20 (Embedding)        (None, 40, 300)      4118700     input_23[0][0]                   \n",
      "__________________________________________________________________________________________________\n",
      "embedding_21 (Embedding)        (None, 40, 300)      4118700     input_26[0][0]                   \n",
      "__________________________________________________________________________________________________\n",
      "flatten_1 (Flatten)             (None, 12000)        0           embedding_18[0][0]               \n",
      "__________________________________________________________________________________________________\n",
      "flatten_2 (Flatten)             (None, 12000)        0           embedding_19[0][0]               \n",
      "__________________________________________________________________________________________________\n",
      "flatten_3 (Flatten)             (None, 12000)        0           embedding_20[0][0]               \n",
      "__________________________________________________________________________________________________\n",
      "input_24 (InputLayer)           (None, 40)           0                                            \n",
      "__________________________________________________________________________________________________\n",
      "input_25 (InputLayer)           (None, 40)           0                                            \n",
      "__________________________________________________________________________________________________\n",
      "flatten_4 (Flatten)             (None, 12000)        0           embedding_21[0][0]               \n",
      "__________________________________________________________________________________________________\n",
      "concatenate_3 (Concatenate)     (None, 48080)        0           flatten_1[0][0]                  \n",
      "                                                                 flatten_2[0][0]                  \n",
      "                                                                 flatten_3[0][0]                  \n",
      "                                                                 input_24[0][0]                   \n",
      "                                                                 input_25[0][0]                   \n",
      "                                                                 flatten_4[0][0]                  \n",
      "__________________________________________________________________________________________________\n",
      "dense_1 (Dense)                 (None, 600)          28848600    concatenate_3[0][0]              \n",
      "__________________________________________________________________________________________________\n",
      "dense_2 (Dense)                 (None, 2)            1202        dense_1[0][0]                    \n",
      "==================================================================================================\n",
      "Total params: 45,324,602\n",
      "Trainable params: 45,324,602\n",
      "Non-trainable params: 0\n",
      "__________________________________________________________________________________________________\n"
     ]
    }
   ],
   "source": [
    "#Embeddings on Dataset\n",
    "wv_layer_dataset = Embedding(len(word_index)+1,\n",
    "                 EMBEDDING_DIM,\n",
    "                 weights=[embedding_matrix_dataset],\n",
    "                 input_length=MAX_SEQUENCE_LENGTH,\n",
    "                 trainable=True)\n",
    "\n",
    "comment_input_dataset = Input(shape=(MAX_SEQUENCE_LENGTH,), dtype='float32')\n",
    "embedded_sequences_dataset = wv_layer_dataset(comment_input_dataset)\n",
    "embedded_sequences_dataset = Flatten()(embedded_sequences_dataset)\n",
    "\n",
    "#Pretrained Embeddings\n",
    "wv_layer_google = Embedding(len(word_index)+1,\n",
    "                 EMBEDDING_DIM,\n",
    "                 weights=[embedding_matrix_google],\n",
    "                 input_length=MAX_SEQUENCE_LENGTH,\n",
    "                 trainable=True)\n",
    "\n",
    "wv_layer_glove = Embedding(len(word_index)+1,\n",
    "                 EMBEDDING_DIM,\n",
    "                 weights=[embedding_matrix_glove],\n",
    "                 input_length=MAX_SEQUENCE_LENGTH,\n",
    "                 trainable=True)\n",
    "\n",
    "\n",
    "comment_input_pretrained = Input(shape=(MAX_SEQUENCE_LENGTH,), dtype='int32')\n",
    "embedded_sequences_google = wv_layer_google(comment_input_pretrained)\n",
    "embedded_sequences_google = Flatten()(embedded_sequences_google)\n",
    "embedded_sequences_glove = wv_layer_glove(comment_input_pretrained)\n",
    "embedded_sequences_glove = Flatten()(embedded_sequences_glove)\n",
    "\n",
    "#Additional Features\n",
    "input_blob = Input(shape=(MAX_SEQUENCE_LENGTH,), dtype='float32')\n",
    "input_pos = Input(shape=(MAX_SEQUENCE_LENGTH,), dtype='float32')\n",
    "\n",
    "#Word embedding on basis Doc2Vec\n",
    "wv_layer_doc2vec = Embedding(len(word_index)+1,\n",
    "                 EMBEDDING_DIM,\n",
    "                 weights=[embedding_matrix_doc2vec],\n",
    "                 input_length=MAX_SEQUENCE_LENGTH,\n",
    "                 trainable=True)\n",
    "\n",
    "comment_input_doc2vec = Input(shape=(MAX_SEQUENCE_LENGTH,), dtype='float32')\n",
    "embedded_sequences_doc2vec = wv_layer_doc2vec(comment_input_doc2vec)\n",
    "embedded_sequences_doc2vec = Flatten ()(embedded_sequences_doc2vec)\n",
    "\n",
    "#Concatenate inputs \n",
    "x = concatenate([embedded_sequences_dataset,embedded_sequences_google, embedded_sequences_glove, \n",
    "                 input_blob, input_pos, embedded_sequences_doc2vec])\n",
    "\n",
    "#Dense Layer\n",
    "x = Dense(600, activation='relu')(x)\n",
    "\n",
    "#Output (Dense) Layer\n",
    "preds = Dense(2, activation='softmax')(x)\n",
    "\n",
    "# build the model\n",
    "model = Model(inputs=[comment_input_dataset,comment_input_pretrained,input_blob, input_pos, comment_input_doc2vec ], outputs=preds)\n",
    "\n",
    "model.summary()"
   ]
  },
  {
   "cell_type": "code",
   "execution_count": 28,
   "metadata": {},
   "outputs": [
    {
     "name": "stdout",
     "output_type": "stream",
     "text": [
      "WARNING:tensorflow:From C:\\Users\\twitter\\Anaconda3\\lib\\site-packages\\tensorflow\\python\\ops\\math_ops.py:3066: to_int32 (from tensorflow.python.ops.math_ops) is deprecated and will be removed in a future version.\n",
      "Instructions for updating:\n",
      "Use tf.cast instead.\n"
     ]
    },
    {
     "data": {
      "image/png": "[encoded data removed]",
      "text/plain": [
       "<Figure size 1080x720 with 1 Axes>"
      ]
     },
     "metadata": {},
     "output_type": "display_data"
    },
    {
     "name": "stdout",
     "output_type": "stream",
     "text": [
      "\n",
      "-----Test Scores----\n",
      "Loss: 1.08135529926845\n",
      "Accuracy: 64.66836734693877\n",
      "Precision: 54.33673468001614\n",
      "Recall: 68.4887459586853\n",
      "F1: 60.5974345939475\n"
     ]
    }
   ],
   "source": [
    "train_evaluate_fife_inputs(model, NUM_EPOCHS, BATCH_SIZE, optimizer, lossfunction, train_data, train_data, train_pos, train_senti_blob, train_data, train_labels, test_data, test_data, test_pos, test_senti_blob, test_data, test_labels, softmax, outputpath, 'combineall')"
   ]
  },
  {
   "cell_type": "markdown",
   "metadata": {},
   "source": [
    "## Combine all features use seperate models"
   ]
  },
  {
   "cell_type": "code",
   "execution_count": 44,
   "metadata": {},
   "outputs": [
    {
     "name": "stdout",
     "output_type": "stream",
     "text": [
      "__________________________________________________________________________________________________\n",
      "Layer (type)                    Output Shape         Param #     Connected to                     \n",
      "==================================================================================================\n",
      "input_60 (InputLayer)           (None, 40)           0                                            \n",
      "__________________________________________________________________________________________________\n",
      "input_61 (InputLayer)           (None, 40)           0                                            \n",
      "__________________________________________________________________________________________________\n",
      "input_62 (InputLayer)           (None, 40)           0                                            \n",
      "__________________________________________________________________________________________________\n",
      "input_65 (InputLayer)           (None, 40)           0                                            \n",
      "__________________________________________________________________________________________________\n",
      "embedding_45 (Embedding)        (None, 40, 300)      4118700     input_60[0][0]                   \n",
      "__________________________________________________________________________________________________\n",
      "embedding_19 (Embedding)        (None, 40, 300)      4118700     input_61[0][0]                   \n",
      "__________________________________________________________________________________________________\n",
      "embedding_47 (Embedding)        (None, 40, 300)      4118700     input_62[0][0]                   \n",
      "__________________________________________________________________________________________________\n",
      "embedding_48 (Embedding)        (None, 40, 300)      4118700     input_65[0][0]                   \n",
      "__________________________________________________________________________________________________\n",
      "dense_35 (Dense)                (None, 40, 600)      180600      embedding_45[0][0]               \n",
      "__________________________________________________________________________________________________\n",
      "dense_36 (Dense)                (None, 40, 600)      180600      embedding_19[5][0]               \n",
      "__________________________________________________________________________________________________\n",
      "dense_37 (Dense)                (None, 40, 600)      180600      embedding_47[0][0]               \n",
      "__________________________________________________________________________________________________\n",
      "input_63 (InputLayer)           (None, 40)           0                                            \n",
      "__________________________________________________________________________________________________\n",
      "input_64 (InputLayer)           (None, 40)           0                                            \n",
      "__________________________________________________________________________________________________\n",
      "dense_40 (Dense)                (None, 40, 600)      180600      embedding_48[0][0]               \n",
      "__________________________________________________________________________________________________\n",
      "flatten_26 (Flatten)            (None, 24000)        0           dense_35[0][0]                   \n",
      "__________________________________________________________________________________________________\n",
      "flatten_27 (Flatten)            (None, 24000)        0           dense_36[0][0]                   \n",
      "__________________________________________________________________________________________________\n",
      "flatten_28 (Flatten)            (None, 24000)        0           dense_37[0][0]                   \n",
      "__________________________________________________________________________________________________\n",
      "dense_38 (Dense)                (None, 600)          24600       input_63[0][0]                   \n",
      "__________________________________________________________________________________________________\n",
      "dense_39 (Dense)                (None, 600)          24600       input_64[0][0]                   \n",
      "__________________________________________________________________________________________________\n",
      "flatten_29 (Flatten)            (None, 24000)        0           dense_40[0][0]                   \n",
      "__________________________________________________________________________________________________\n",
      "concatenate_7 (Concatenate)     (None, 97200)        0           flatten_26[0][0]                 \n",
      "                                                                 flatten_27[0][0]                 \n",
      "                                                                 flatten_28[0][0]                 \n",
      "                                                                 dense_38[0][0]                   \n",
      "                                                                 dense_39[0][0]                   \n",
      "                                                                 flatten_29[0][0]                 \n",
      "__________________________________________________________________________________________________\n",
      "dense_41 (Dense)                (None, 2)            194402      concatenate_7[0][0]              \n",
      "==================================================================================================\n",
      "Total params: 17,440,802\n",
      "Trainable params: 17,440,802\n",
      "Non-trainable params: 0\n",
      "__________________________________________________________________________________________________\n"
     ]
    }
   ],
   "source": [
    "#Embeddings on Dataset\n",
    "wv_layer_dataset_4 = Embedding(len(word_index)+1,\n",
    "                 EMBEDDING_DIM,\n",
    "                 weights=[embedding_matrix_dataset],\n",
    "                 input_length=MAX_SEQUENCE_LENGTH,\n",
    "                 trainable=True)\n",
    "\n",
    "comment_input_dataset_4 = Input(shape=(MAX_SEQUENCE_LENGTH,), dtype='float32')\n",
    "embedded_sequences_dataset_4 = wv_layer_dataset_4(comment_input_dataset_4)\n",
    "x_dataset_4 = Dense(600, activation='relu')(embedded_sequences_dataset_4)\n",
    "x_dataset_4 = Flatten()(x_dataset_4)\n",
    "\n",
    "#Pretrained Embeddings\n",
    "wv_layer_google_4 = Embedding(len(word_index)+1,\n",
    "                 EMBEDDING_DIM,\n",
    "                 weights=[embedding_matrix_google],\n",
    "                 input_length=MAX_SEQUENCE_LENGTH,\n",
    "                 trainable=True)\n",
    "comment_input_google_4 = Input(shape=(MAX_SEQUENCE_LENGTH,), dtype='int32')\n",
    "embedded_sequences_google_4 = wv_layer_google(comment_input_google_4)\n",
    "x_google_4 = Dense(600, activation ='relu') (embedded_sequences_google_4)\n",
    "x_google_4 = Flatten()(x_google_4)\n",
    "\n",
    "wv_layer_glove_4 = Embedding(len(word_index)+1,\n",
    "                 EMBEDDING_DIM,\n",
    "                 weights=[embedding_matrix_glove],\n",
    "                 input_length=MAX_SEQUENCE_LENGTH,\n",
    "                 trainable=True)\n",
    "comment_input_glove_4 = Input(shape=(MAX_SEQUENCE_LENGTH,), dtype='int32')\n",
    "embedded_sequences_glove_4 = wv_layer_glove_4(comment_input_glove_4)\n",
    "x_glove_4 = Dense(600, activation='relu')(embedded_sequences_glove_4)\n",
    "x_glove_4 = Flatten()(x_glove_4)\n",
    "\n",
    "#Additional Features\n",
    "input_blob_4 = Input(shape=(MAX_SEQUENCE_LENGTH,), dtype='float32')\n",
    "x_blob_4 = Dense(600, activation='relu')(input_blob_4) \n",
    "\n",
    "input_pos_4 = Input(shape=(MAX_SEQUENCE_LENGTH,), dtype='float32')\n",
    "x_pos_4 = Dense(600, activation='relu')(input_pos_4) \n",
    "\n",
    "#Word embedding on basis Doc2Vec\n",
    "wv_layer_doc2vec_4 = Embedding(len(word_index)+1,\n",
    "                 EMBEDDING_DIM,\n",
    "                 weights=[embedding_matrix_doc2vec],\n",
    "                 input_length=MAX_SEQUENCE_LENGTH,\n",
    "                 trainable=True)\n",
    "\n",
    "comment_input_doc2vec_4 = Input(shape=(MAX_SEQUENCE_LENGTH,), dtype='float32')\n",
    "embedded_sequences_doc2vec_4 = wv_layer_doc2vec_4(comment_input_doc2vec_4)\n",
    "x_doc2vec_4 = Dense(600, activation='relu')(embedded_sequences_doc2vec_4)\n",
    "x_doc2vec_4= Flatten ()(x_doc2vec_4)\n",
    "\n",
    "#Concatenate inputs \n",
    "x_4 = concatenate([x_dataset_4,x_google_4,x_glove_4, x_blob_4,x_pos_4,x_doc2vec_4])\n",
    "\n",
    "#Output (Dense) Layer\n",
    "preds_4 = Dense(2, activation='softmax')(x_4)\n",
    "\n",
    "# build the model\n",
    "model_4 = Model(inputs=[comment_input_dataset_4,comment_input_google_4,comment_input_glove_4,input_blob_4,input_pos_4,comment_input_doc2vec_4 ], outputs=preds_4)\n",
    "\n",
    "model_4.summary()"
   ]
  },
  {
   "cell_type": "code",
   "execution_count": 46,
   "metadata": {},
   "outputs": [
    {
     "data": {
      "image/png": "[encoded data removed]",
      "text/plain": [
       "<Figure size 1080x720 with 1 Axes>"
      ]
     },
     "metadata": {},
     "output_type": "display_data"
    },
    {
     "name": "stdout",
     "output_type": "stream",
     "text": [
      "\n",
      "-----Test Scores----\n",
      "Loss: 0.6984541525646132\n",
      "Accuracy: 67.3469387755102\n",
      "Precision: 57.45257451017546\n",
      "Recall: 68.16720255042856\n",
      "F1: 62.35293619450732\n"
     ]
    }
   ],
   "source": [
    "train_evaluate_six_inputs(model_4, NUM_EPOCHS, BATCH_SIZE, optimizer, lossfunction, train_data, train_data, train_data, train_senti_blob,train_pos, train_data, train_labels, test_data, test_data, test_data, test_senti_blob, test_pos, test_data, test_labels, softmax, outputpath, 'combineall_seperatmodels')"
   ]
  },
  {
   "cell_type": "code",
   "execution_count": 45,
   "metadata": {},
   "outputs": [],
   "source": [
    "#model = Kearas model\n",
    "#softmax = boolean, true if the model uses softmaxe in the output layer otherwise false\n",
    "#outputpath = path were the output csv should be stored\n",
    "#outputname = name to use for the output csv\n",
    "def train_evaluate_six_inputs(model, nrepochs, nrbatch, optimizer, lossfunction, train_data, train_data2, \n",
    "                               train_data3, train_data4,train_data5, train_data6, train_labels, test_data, test_data2, \n",
    "                               test_data3, test_data4, test_data5, test_data6, test_labels, softmax, outputpath, outputname):\n",
    "    import datetime\n",
    "    \n",
    "    seed = 7\n",
    "    np.random.seed(seed)\n",
    "    tf.set_random_seed(seed)\n",
    "    rd.seed(seed)\n",
    "    \n",
    "    #needed for softmax-activation\n",
    "    if softmax:\n",
    "        labelstrain = to_categorical(train_labels)\n",
    "        labelstest = to_categorical(test_labels)\n",
    "    else:\n",
    "        labelstrain = train_labels\n",
    "        labelstest = test_labels\n",
    "\n",
    "    time_callback = TimeHistory() \n",
    "    \n",
    "    #evaluate the positive class (=ironic data)\n",
    "    precision =km.binary_precision(label=1)\n",
    "    recall = km.binary_recall(label=1)\n",
    "    f1 = km.f1_score(label=1)\n",
    "\n",
    "    model.compile(loss = lossfunction,\n",
    "          optimizer=optimizer,\n",
    "          metrics=['accuracy', precision, recall, f1])\n",
    "\n",
    "    #Train the model \n",
    "    hist= model.fit([train_data, train_data2, train_data3, train_data4, train_data5, train_data6], labelstrain, epochs=nrepochs, batch_size=nrbatch, \n",
    "                    shuffle=True, verbose = 0, callbacks=[time_callback])\n",
    "\n",
    "    from matplotlib import pyplot\n",
    "    %matplotlib inline\n",
    "    pyplot.figure(figsize=(15,10))\n",
    "    pyplot.plot(hist.history['acc']) \n",
    "    pyplot.plot(hist.history['f1_score'])\n",
    "    #pyplot.plot(hist.history['loss'])\n",
    "    pyplot.xticks(np.arange(1,nrepochs))\n",
    "    pyplot.legend(['Train Accuracy', 'Train F1', 'Validation Accuracy', 'Validation F1', 'Loss'], loc=(1.04,0.5))\n",
    "    pyplot.show()\n",
    "\n",
    "    #Store the keras model\n",
    "    model.save(outputpath+str(datetime.datetime.now().strftime(\"%Y-%m-%d_%H-%M-%S\"))+'_'+outputname+\n",
    "                   '_'+'_model.h5')        \n",
    "    \n",
    "    score = model.evaluate([test_data,test_data2, test_data3, test_data4, test_data5, test_data6], labelstest, verbose = 0)\n",
    "    \n",
    "    print(\"\\n-----Test Scores----\")\n",
    "    print(\"Loss: \" + str(score[0]))\n",
    "    print(\"Accuracy: \" + str(score[1]*100))\n",
    "    print(\"Precision: \" + str(score[2]*100))\n",
    "    print(\"Recall: \" + str(score[3]*100))\n",
    "    print(\"F1: \" + str(score[4]*100))\n",
    "\n",
    "\n",
    "    #stores the test results        \n",
    "    f= open(outputpath+str(datetime.datetime.now().strftime(\"%Y-%m-%d_%H-%M-%S\"))+' '+outputname+'_finaltestresults.csv','w+')\n",
    "    f.write('Loss;'+str(score[0])+'\\n'+\n",
    "            'Accuracy;'+str(score[1])+'\\n'+\n",
    "            'Precision;'+str(score[2])+'\\n'+\n",
    "            'Recall;'+str(score[3])+'\\n'+\n",
    "            'F1;'+str(score[4])+'\\n')\n",
    "    f.close() "
   ]
  },
  {
   "cell_type": "markdown",
   "metadata": {},
   "source": [
    "## Combine only pretrained Word2Vec and GloVe embeddings with additional Features"
   ]
  },
  {
   "cell_type": "code",
   "execution_count": 29,
   "metadata": {},
   "outputs": [
    {
     "name": "stdout",
     "output_type": "stream",
     "text": [
      "__________________________________________________________________________________________________\n",
      "Layer (type)                    Output Shape         Param #     Connected to                     \n",
      "==================================================================================================\n",
      "input_27 (InputLayer)           (None, 40)           0                                            \n",
      "__________________________________________________________________________________________________\n",
      "embedding_19 (Embedding)        (None, 40, 300)      4118700     input_27[0][0]                   \n",
      "__________________________________________________________________________________________________\n",
      "embedding_20 (Embedding)        (None, 40, 300)      4118700     input_27[0][0]                   \n",
      "__________________________________________________________________________________________________\n",
      "flatten_5 (Flatten)             (None, 12000)        0           embedding_19[1][0]               \n",
      "__________________________________________________________________________________________________\n",
      "flatten_6 (Flatten)             (None, 12000)        0           embedding_20[1][0]               \n",
      "__________________________________________________________________________________________________\n",
      "input_28 (InputLayer)           (None, 40)           0                                            \n",
      "__________________________________________________________________________________________________\n",
      "input_29 (InputLayer)           (None, 40)           0                                            \n",
      "__________________________________________________________________________________________________\n",
      "concatenate_4 (Concatenate)     (None, 24080)        0           flatten_5[0][0]                  \n",
      "                                                                 flatten_6[0][0]                  \n",
      "                                                                 input_28[0][0]                   \n",
      "                                                                 input_29[0][0]                   \n",
      "__________________________________________________________________________________________________\n",
      "dense_3 (Dense)                 (None, 600)          14448600    concatenate_4[0][0]              \n",
      "__________________________________________________________________________________________________\n",
      "dense_4 (Dense)                 (None, 2)            1202        dense_3[0][0]                    \n",
      "==================================================================================================\n",
      "Total params: 22,687,202\n",
      "Trainable params: 22,687,202\n",
      "Non-trainable params: 0\n",
      "__________________________________________________________________________________________________\n"
     ]
    }
   ],
   "source": [
    "#Pretrained Embeddings\n",
    "wv_layer_google_2 = Embedding(len(word_index)+1,\n",
    "                 EMBEDDING_DIM,\n",
    "                 weights=[embedding_matrix_google],\n",
    "                 input_length=MAX_SEQUENCE_LENGTH,\n",
    "                 trainable=True)\n",
    "\n",
    "wv_layer_glove_2 = Embedding(len(word_index)+1,\n",
    "                 EMBEDDING_DIM,\n",
    "                 weights=[embedding_matrix_glove],\n",
    "                 input_length=MAX_SEQUENCE_LENGTH,\n",
    "                 trainable=True)\n",
    "\n",
    "\n",
    "comment_input_pretrained_2 = Input(shape=(MAX_SEQUENCE_LENGTH,), dtype='int32')\n",
    "embedded_sequences_google_2 = wv_layer_google(comment_input_pretrained_2)\n",
    "embedded_sequences_google_2 = Flatten()(embedded_sequences_google_2)\n",
    "embedded_sequences_glove_2 = wv_layer_glove(comment_input_pretrained_2)\n",
    "embedded_sequences_glove_2 = Flatten()(embedded_sequences_glove_2)\n",
    "\n",
    "#Additional Features\n",
    "input_blob_2 = Input(shape=(MAX_SEQUENCE_LENGTH,), dtype='float32')\n",
    "input_pos_2 = Input(shape=(MAX_SEQUENCE_LENGTH,), dtype='float32')\n",
    "\n",
    "\n",
    "#Concatenate inputs \n",
    "x_2 = concatenate([embedded_sequences_google_2, embedded_sequences_glove_2, \n",
    "                 input_blob_2, input_pos_2])\n",
    "\n",
    "#Dense Layer\n",
    "x_2 = Dense(600, activation='relu')(x_2)\n",
    "\n",
    "#Output (Dense) Layer\n",
    "preds_2 = Dense(2, activation='softmax')(x_2)\n",
    "\n",
    "#build the model\n",
    "model_2 = Model(inputs=[comment_input_pretrained_2,input_blob_2, input_pos_2], outputs=preds_2)\n",
    "\n",
    "model_2.summary()"
   ]
  },
  {
   "cell_type": "code",
   "execution_count": 31,
   "metadata": {},
   "outputs": [
    {
     "data": {
      "image/png": "[encoded data removed]",
      "text/plain": [
       "<Figure size 1080x720 with 1 Axes>"
      ]
     },
     "metadata": {},
     "output_type": "display_data"
    },
    {
     "name": "stdout",
     "output_type": "stream",
     "text": [
      "\n",
      "-----Test Scores----\n",
      "Loss: 1.0760117817898185\n",
      "Accuracy: 62.244897959183675\n",
      "Precision: 52.02156332829608\n",
      "Recall: 62.05787779355053\n",
      "F1: 56.59823549131029\n"
     ]
    }
   ],
   "source": [
    "train_evaluate_three_inputs(model_2, NUM_EPOCHS, BATCH_SIZE, optimizer, lossfunction, train_data, train_pos, train_senti_blob, train_labels, test_data, test_pos, test_senti_blob, test_labels, softmax, outputpath, 'combinePretrainedAndAdditionalFeatures')"
   ]
  },
  {
   "cell_type": "markdown",
   "metadata": {},
   "source": [
    "## Combine only pretrained embedding an additional features as seperate models"
   ]
  },
  {
   "cell_type": "code",
   "execution_count": 36,
   "metadata": {},
   "outputs": [
    {
     "name": "stdout",
     "output_type": "stream",
     "text": [
      "__________________________________________________________________________________________________\n",
      "Layer (type)                    Output Shape         Param #     Connected to                     \n",
      "==================================================================================================\n",
      "input_39 (InputLayer)           (None, 40)           0                                            \n",
      "__________________________________________________________________________________________________\n",
      "input_40 (InputLayer)           (None, 40)           0                                            \n",
      "__________________________________________________________________________________________________\n",
      "embedding_31 (Embedding)        (None, 40, 300)      4118700     input_39[0][0]                   \n",
      "__________________________________________________________________________________________________\n",
      "embedding_32 (Embedding)        (None, 40, 300)      4118700     input_40[0][0]                   \n",
      "__________________________________________________________________________________________________\n",
      "dense_14 (Dense)                (None, 40, 600)      180600      embedding_31[0][0]               \n",
      "__________________________________________________________________________________________________\n",
      "dense_15 (Dense)                (None, 40, 600)      180600      embedding_32[0][0]               \n",
      "__________________________________________________________________________________________________\n",
      "input_41 (InputLayer)           (None, 40)           0                                            \n",
      "__________________________________________________________________________________________________\n",
      "input_42 (InputLayer)           (None, 40)           0                                            \n",
      "__________________________________________________________________________________________________\n",
      "flatten_12 (Flatten)            (None, 24000)        0           dense_14[0][0]                   \n",
      "__________________________________________________________________________________________________\n",
      "flatten_13 (Flatten)            (None, 24000)        0           dense_15[0][0]                   \n",
      "__________________________________________________________________________________________________\n",
      "dense_16 (Dense)                (None, 600)          24600       input_41[0][0]                   \n",
      "__________________________________________________________________________________________________\n",
      "dense_17 (Dense)                (None, 600)          24600       input_42[0][0]                   \n",
      "__________________________________________________________________________________________________\n",
      "concatenate_6 (Concatenate)     (None, 49200)        0           flatten_12[0][0]                 \n",
      "                                                                 flatten_13[0][0]                 \n",
      "                                                                 dense_16[0][0]                   \n",
      "                                                                 dense_17[0][0]                   \n",
      "__________________________________________________________________________________________________\n",
      "dense_18 (Dense)                (None, 600)          29520600    concatenate_6[0][0]              \n",
      "__________________________________________________________________________________________________\n",
      "dense_19 (Dense)                (None, 2)            1202        dense_18[0][0]                   \n",
      "==================================================================================================\n",
      "Total params: 38,169,602\n",
      "Trainable params: 38,169,602\n",
      "Non-trainable params: 0\n",
      "__________________________________________________________________________________________________\n"
     ]
    }
   ],
   "source": [
    "#Pretrained Embeddings\n",
    "# Word2Vec\n",
    "wv_layer_google_3 = Embedding(len(word_index)+1,\n",
    "                 EMBEDDING_DIM,\n",
    "                 weights=[embedding_matrix_google],\n",
    "                 input_length=MAX_SEQUENCE_LENGTH,\n",
    "                 trainable=True)\n",
    "comment_input_google = Input(shape=(MAX_SEQUENCE_LENGTH,), dtype='int32')\n",
    "embedded_sequences_google_3 = wv_layer_google_3(comment_input_google)\n",
    "x_google = Dense(600, activation='relu')(embedded_sequences_google_3)\n",
    "x_google = Flatten() (x_google)\n",
    "\n",
    "#GloVe\n",
    "wv_layer_glove_3 = Embedding(len(word_index)+1,\n",
    "                 EMBEDDING_DIM,\n",
    "                 weights=[embedding_matrix_glove],\n",
    "                 input_length=MAX_SEQUENCE_LENGTH,\n",
    "                 trainable=True)\n",
    "comment_input_glove = Input(shape=(MAX_SEQUENCE_LENGTH,), dtype='int32')\n",
    "embedded_sequences_glove_3 = wv_layer_glove_3(comment_input_glove)\n",
    "x_glove = Dense(600, activation='relu')(embedded_sequences_glove_3)\n",
    "x_glove = Flatten()(x_glove)\n",
    "\n",
    "#Additional Features\n",
    "input_pos_3 = Input(shape=(MAX_SEQUENCE_LENGTH,), dtype='float32')\n",
    "x_pos =  Dense(600, activation='relu')(input_pos_3)\n",
    "\n",
    "input_blob_3 = Input(shape=(MAX_SEQUENCE_LENGTH,), dtype='float32')\n",
    "x_blob = Dense(600, activation='relu')(input_blob_3)\n",
    "\n",
    "\n",
    "#Concatenate inputs \n",
    "x_3 = concatenate([x_google, x_glove, x_pos, x_blob])\n",
    "\n",
    "#Dense Layer\n",
    "x_3 = Dense(600, activation='relu')(x_3)\n",
    "\n",
    "#Output (Dense) Layer\n",
    "preds_3 = Dense(2, activation='softmax')(x_3)\n",
    "\n",
    "#build the model\n",
    "model_3 = Model(inputs=[comment_input_google,comment_input_glove,input_pos_3,input_blob_3], outputs=preds_3)\n",
    "\n",
    "model_3.summary()"
   ]
  },
  {
   "cell_type": "code",
   "execution_count": 37,
   "metadata": {},
   "outputs": [
    {
     "data": {
      "image/png": "[encoded data removed]",
      "text/plain": [
       "<Figure size 1080x720 with 1 Axes>"
      ]
     },
     "metadata": {},
     "output_type": "display_data"
    },
    {
     "name": "stdout",
     "output_type": "stream",
     "text": [
      "\n",
      "-----Test Scores----\n",
      "Loss: 1.08107768272867\n",
      "Accuracy: 66.58163265306123\n",
      "Precision: 56.60377356964859\n",
      "Recall: 67.52411573391508\n",
      "F1: 61.58357273325004\n"
     ]
    }
   ],
   "source": [
    "train_evaluate_four_inputs(model_3, NUM_EPOCHS, BATCH_SIZE, optimizer, lossfunction, train_data, train_data, train_pos, train_senti_blob, train_labels, test_data, test_data, test_pos, test_senti_blob, test_labels, softmax, outputpath, 'combinePretrainedAndAdditionalFeatures_seperate')"
   ]
  }
 ],
 "metadata": {
  "kernelspec": {
   "display_name": "Python 3",
   "language": "python",
   "name": "python3"
  },
  "language_info": {
   "codemirror_mode": {
    "name": "ipython",
    "version": 3
   },
   "file_extension": ".py",
   "mimetype": "text/x-python",
   "name": "python",
   "nbconvert_exporter": "python",
   "pygments_lexer": "ipython3",
   "version": "3.6.5"
  }
 },
 "nbformat": 4,
 "nbformat_minor": 2
}
