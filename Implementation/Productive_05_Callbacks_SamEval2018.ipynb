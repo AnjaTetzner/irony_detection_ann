{
 "cells": [
  {
   "cell_type": "code",
   "execution_count": 1,
   "metadata": {},
   "outputs": [
    {
     "name": "stderr",
     "output_type": "stream",
     "text": [
      "C:\\Users\\twitter\\Anaconda3\\lib\\site-packages\\h5py\\__init__.py:36: FutureWarning: Conversion of the second argument of issubdtype from `float` to `np.floating` is deprecated. In future, it will be treated as `np.float64 == np.dtype(float).type`.\n",
      "  from ._conv import register_converters as _register_converters\n",
      "Using TensorFlow backend.\n"
     ]
    },
    {
     "name": "stdout",
     "output_type": "stream",
     "text": [
      "importing Jupyter notebook from Productive_CrossValidation_inclTest.ipynb\n",
      "importing Jupyter notebook from Productive_TimeHistory.ipynb\n",
      "importing Jupyter notebook from Productive_Data_GetTrainTest.ipynb\n"
     ]
    }
   ],
   "source": [
    "import numpy as np\n",
    "import random as rd\n",
    "import tensorflow as tf\n",
    "\n",
    "from keras.layers import Dense, Embedding, Flatten, Input, concatenate\n",
    "from keras.models import Model\n",
    "from keras.optimizers import Adagrad\n",
    "\n",
    "#Import another jupyter notebook\n",
    "import import_ipynb\n",
    "from Productive_CrossValidation_inclTest import *\n",
    "from Productive_Data_GetTrainTest import samEval\n",
    "\n",
    "\n",
    "from matplotlib import pyplot\n",
    "\n",
    "from sklearn.model_selection import StratifiedKFold\n",
    "\n",
    "import keras_metrics as km \n",
    "\n",
    "from keras.utils import to_categorical\n",
    "from keras.models import clone_model\n",
    "from keras.callbacks import ReduceLROnPlateau\n",
    "\n",
    "import import_ipynb\n",
    "from Productive_TimeHistory import TimeHistory\n",
    "\n",
    "from keras.models import load_model"
   ]
  },
  {
   "cell_type": "code",
   "execution_count": 2,
   "metadata": {},
   "outputs": [],
   "source": [
    "#for reproducability of the results\n",
    "seed = 7\n",
    "np.random.seed(seed)\n",
    "tf.set_random_seed(seed)\n",
    "rd.seed(seed)"
   ]
  },
  {
   "cell_type": "code",
   "execution_count": 3,
   "metadata": {},
   "outputs": [],
   "source": [
    "path = 'data/'\n",
    "outputpath ='outputs/05_callbacks_samEval2018/'"
   ]
  },
  {
   "cell_type": "code",
   "execution_count": 4,
   "metadata": {},
   "outputs": [],
   "source": [
    "#Load necessary data\n",
    "train_data, train_labels, test_data, test_labels, word_index, MAX_SEQUENCE_LENGTH = samEval()"
   ]
  },
  {
   "cell_type": "code",
   "execution_count": 5,
   "metadata": {},
   "outputs": [
    {
     "name": "stderr",
     "output_type": "stream",
     "text": [
      "C:\\Users\\twitter\\Anaconda3\\lib\\site-packages\\smart_open\\smart_open_lib.py:398: UserWarning: This function is deprecated, use smart_open.open instead. See the migration notes for details: https://github.com/RaRe-Technologies/smart_open/blob/master/README.rst#migrating-to-the-new-open-function\n",
      "  'See the migration notes for details: %s' % _MIGRATION_NOTES_URL\n",
      "C:\\Users\\twitter\\Anaconda3\\lib\\site-packages\\ipykernel_launcher.py:10: DeprecationWarning: Call to deprecated `wv` (Attribute will be removed in 4.0.0, use self instead).\n",
      "  # Remove the CWD from sys.path while we load stuff.\n"
     ]
    }
   ],
   "source": [
    "#Load pretrained embeddings\n",
    "import gensim\n",
    "from gensim.models import KeyedVectors\n",
    "\n",
    "#Pretrained Google News Embeddings, Dimension 300\n",
    "GOOGLEEMB = path + 'GoogleNews-vectors-negative300.bin'\n",
    "\n",
    "embedding= KeyedVectors.load_word2vec_format(GOOGLEEMB, binary=True)\n",
    "\n",
    "word_vectors = embedding.wv"
   ]
  },
  {
   "cell_type": "code",
   "execution_count": 6,
   "metadata": {},
   "outputs": [],
   "source": [
    "#Create embedding-matrix, serves the Keras Embedding Layer as weigths\n",
    "EMBEDDING_DIM=300\n",
    "\n",
    "embedding_matrix = np.zeros((len(word_index)+1, EMBEDDING_DIM))\n",
    "\n",
    "for word, i in word_index.items():\n",
    "    try:\n",
    "        embedding_vector = word_vectors[word]\n",
    "        embedding_matrix[i] = embedding_vector   \n",
    "    except:\n",
    "        # words not found in embeddings will be zero\n",
    "        pass"
   ]
  },
  {
   "cell_type": "code",
   "execution_count": 7,
   "metadata": {},
   "outputs": [],
   "source": [
    "#Load POS data\n",
    "def get_pos(file):\n",
    "    pos =[]\n",
    "    with open(file, 'r') as f:\n",
    "        for line in f:\n",
    "            pos.append([int(i) for i in line.split(',')])\n",
    "    pos= np.asarray(pos)\n",
    "    return pos\n",
    "\n",
    "train_pos =get_pos('output_trainTestData/SamEval_train_pos.csv')\n",
    "test_pos = get_pos('output_trainTestData/SamEval_test_pos.csv')"
   ]
  },
  {
   "cell_type": "code",
   "execution_count": 8,
   "metadata": {},
   "outputs": [],
   "source": [
    "#Load Sentiment data\n",
    "def get_sentiment(file):\n",
    "    senti =[]\n",
    "    with open(file, 'r') as f:\n",
    "        for line in f:\n",
    "            senti.append([float(i) for i in line.split(',')])\n",
    "    senti= np.asarray(senti)\n",
    "    return senti\n",
    "\n",
    "train_senti_blob =get_sentiment('output_trainTestData/SamEval_train_data_sentiment_blob.csv')\n",
    "test_senti_blob = get_sentiment('output_trainTestData/SamEval_test_data_sentiment_blob.csv')\n",
    "train_senti_vadar =get_sentiment('output_trainTestData/SamEval_train_data_sentiment_vadar.csv')\n",
    "test_senti_vadar = get_sentiment('output_trainTestData/SamEval_test_data_sentiment_vadar.csv')"
   ]
  },
  {
   "cell_type": "markdown",
   "metadata": {},
   "source": [
    "### Hyperparameter for all models"
   ]
  },
  {
   "cell_type": "code",
   "execution_count": 9,
   "metadata": {},
   "outputs": [
    {
     "name": "stdout",
     "output_type": "stream",
     "text": [
      "WARNING:tensorflow:From C:\\Users\\twitter\\Anaconda3\\lib\\site-packages\\tensorflow\\python\\framework\\op_def_library.py:263: colocate_with (from tensorflow.python.framework.ops) is deprecated and will be removed in a future version.\n",
      "Instructions for updating:\n",
      "Colocations handled automatically by placer.\n"
     ]
    }
   ],
   "source": [
    "BATCH_SIZE = 64\n",
    "NUM_EPOCHS = 30\n",
    "softmax = True\n",
    "lossfunction ='binary_crossentropy'\n",
    "optimizer = Adagrad(lr=0.001)"
   ]
  },
  {
   "cell_type": "markdown",
   "metadata": {},
   "source": [
    "## The model"
   ]
  },
  {
   "cell_type": "code",
   "execution_count": 10,
   "metadata": {},
   "outputs": [
    {
     "name": "stdout",
     "output_type": "stream",
     "text": [
      "__________________________________________________________________________________________________\n",
      "Layer (type)                    Output Shape         Param #     Connected to                     \n",
      "==================================================================================================\n",
      "input_1 (InputLayer)            (None, 40)           0                                            \n",
      "__________________________________________________________________________________________________\n",
      "embedding_1 (Embedding)         (None, 40, 300)      4118700     input_1[0][0]                    \n",
      "__________________________________________________________________________________________________\n",
      "dense_1 (Dense)                 (None, 40, 600)      180600      embedding_1[0][0]                \n",
      "__________________________________________________________________________________________________\n",
      "input_2 (InputLayer)            (None, 40)           0                                            \n",
      "__________________________________________________________________________________________________\n",
      "input_3 (InputLayer)            (None, 40)           0                                            \n",
      "__________________________________________________________________________________________________\n",
      "flatten_1 (Flatten)             (None, 24000)        0           dense_1[0][0]                    \n",
      "__________________________________________________________________________________________________\n",
      "dense_2 (Dense)                 (None, 600)          24600       input_2[0][0]                    \n",
      "__________________________________________________________________________________________________\n",
      "dense_3 (Dense)                 (None, 600)          24600       input_3[0][0]                    \n",
      "__________________________________________________________________________________________________\n",
      "concatenate_1 (Concatenate)     (None, 25200)        0           flatten_1[0][0]                  \n",
      "                                                                 dense_2[0][0]                    \n",
      "                                                                 dense_3[0][0]                    \n",
      "__________________________________________________________________________________________________\n",
      "dense_4 (Dense)                 (None, 2)            50402       concatenate_1[0][0]              \n",
      "==================================================================================================\n",
      "Total params: 4,398,902\n",
      "Trainable params: 4,398,902\n",
      "Non-trainable params: 0\n",
      "__________________________________________________________________________________________________\n"
     ]
    }
   ],
   "source": [
    "#First part\n",
    "wv_layer_1 = Embedding(len(word_index)+1,\n",
    "                 EMBEDDING_DIM,\n",
    "                 weights=[embedding_matrix],\n",
    "                 input_length=MAX_SEQUENCE_LENGTH,\n",
    "                 trainable=True)\n",
    "\n",
    "comment_input_1 = Input(shape=(MAX_SEQUENCE_LENGTH,), dtype='float32')\n",
    "embedded_sequences_1 = wv_layer_1(comment_input_1)\n",
    "x_first_1 = Dense(600, activation='relu')(embedded_sequences_1)\n",
    "x_first_1 = Flatten()(x_first_1)\n",
    "\n",
    "#Second part\n",
    "senti_input_1_blob = Input(shape=(MAX_SEQUENCE_LENGTH,), dtype='float')\n",
    "x_second_1 = Dense(600, activation='relu')(senti_input_1_blob)\n",
    "\n",
    "#Thrid part\n",
    "senti_input_1_pos = Input(shape=(MAX_SEQUENCE_LENGTH,), dtype='float')\n",
    "x_third_1 = Dense(600, activation='relu')(senti_input_1_pos)\n",
    "\n",
    "#Concatination\n",
    "concat_1 = concatenate([x_first_1, x_second_1, x_third_1])\n",
    "\n",
    "preds_1 = Dense(2, activation='softmax')(concat_1)\n",
    "\n",
    "model_1 = Model(inputs=[comment_input_1, senti_input_1_blob, senti_input_1_pos], outputs=preds_1)\n",
    "model_1.summary()"
   ]
  },
  {
   "cell_type": "markdown",
   "metadata": {},
   "source": [
    "# Terminate on NaN"
   ]
  },
  {
   "cell_type": "code",
   "execution_count": 11,
   "metadata": {},
   "outputs": [],
   "source": [
    "from keras.callbacks import TerminateOnNaN\n",
    "#model = Kearas model\n",
    "#softmax = boolean, true if the model uses softmaxe in the output layer otherwise false\n",
    "#outputpath = path were the output csv should be stored\n",
    "#outputname = name to use for the output csv\n",
    "def train_evaluate_three_inputs_terminate(model, nrepochs, nrbatch, optimizer, lossfunction, train_data, train_data2, train_data3,\n",
    "                                train_labels, test_data, test_data2, test_data3, test_labels, softmax, outputpath, outputname):\n",
    "    import datetime\n",
    "    \n",
    "    seed = 7\n",
    "    np.random.seed(seed)\n",
    "    tf.set_random_seed(seed)\n",
    "    rd.seed(seed)\n",
    "    \n",
    "    #needed for softmax-activation\n",
    "    if softmax:\n",
    "        labelstrain = to_categorical(train_labels)\n",
    "        labelstest = to_categorical(test_labels)\n",
    "    else:\n",
    "        labelstrain = train_labels\n",
    "        labelstest = test_labels\n",
    "\n",
    "    time_callback = TimeHistory() \n",
    "    terminate = TerminateOnNaN()\n",
    "    \n",
    "    #evaluate the positive class (=ironic data)\n",
    "    precision =km.binary_precision(label=1)\n",
    "    recall = km.binary_recall(label=1)\n",
    "    f1 = km.f1_score(label=1)\n",
    "\n",
    "    model.compile(loss = lossfunction,\n",
    "          optimizer=optimizer,\n",
    "          metrics=['accuracy', precision, recall, f1])\n",
    "\n",
    "    #Train the model \n",
    "    hist= model.fit([train_data, train_data2, train_data3], labelstrain, epochs=nrepochs, batch_size=nrbatch, \n",
    "                    shuffle=True, verbose = 0, callbacks=[time_callback, terminate])\n",
    "\n",
    "    from matplotlib import pyplot\n",
    "    %matplotlib inline\n",
    "    pyplot.figure(figsize=(15,10))\n",
    "    pyplot.plot(hist.history['acc']) \n",
    "    pyplot.plot(hist.history['f1_score'])\n",
    "    #pyplot.plot(hist.history['loss'])\n",
    "    pyplot.xticks(np.arange(1,nrepochs))\n",
    "    pyplot.legend(['Train Accuracy', 'Train F1', 'Validation Accuracy', 'Validation F1', 'Loss'], loc=(1.04,0.5))\n",
    "    pyplot.show()\n",
    "\n",
    "    #Store the keras model\n",
    "    model.save(outputpath+str(datetime.datetime.now().strftime(\"%Y-%m-%d_%H-%M-%S\"))+'_'+outputname+\n",
    "                   '_'+'_model.h5')        \n",
    "    \n",
    "    score = model.evaluate([test_data,test_data2, test_data3], labelstest, verbose = 0)\n",
    "    \n",
    "    print(\"\\n-----Test Scores----\")\n",
    "    print(\"Loss: \" + str(score[0]))\n",
    "    print(\"Accuracy: \" + str(score[1]*100))\n",
    "    print(\"Precision: \" + str(score[2]*100))\n",
    "    print(\"Recall: \" + str(score[3]*100))\n",
    "    print(\"F1: \" + str(score[4]*100))\n",
    "\n",
    "\n",
    "    #stores the test results        \n",
    "    f= open(outputpath+str(datetime.datetime.now().strftime(\"%Y-%m-%d_%H-%M-%S\"))+' '+outputname+'_finaltestresults.csv','w+')\n",
    "    f.write('Loss;'+str(score[0])+'\\n'+\n",
    "            'Accuracy;'+str(score[1])+'\\n'+\n",
    "            'Precision;'+str(score[2])+'\\n'+\n",
    "            'Recall;'+str(score[3])+'\\n'+\n",
    "            'F1;'+str(score[4])+'\\n')\n",
    "    f.close() "
   ]
  },
  {
   "cell_type": "code",
   "execution_count": 12,
   "metadata": {},
   "outputs": [
    {
     "name": "stdout",
     "output_type": "stream",
     "text": [
      "WARNING:tensorflow:From C:\\Users\\twitter\\Anaconda3\\lib\\site-packages\\tensorflow\\python\\ops\\math_ops.py:3066: to_int32 (from tensorflow.python.ops.math_ops) is deprecated and will be removed in a future version.\n",
      "Instructions for updating:\n",
      "Use tf.cast instead.\n"
     ]
    },
    {
     "data": {
      "image/png": "[encoded data removed]",
      "text/plain": [
       "<Figure size 1080x720 with 1 Axes>"
      ]
     },
     "metadata": {},
     "output_type": "display_data"
    },
    {
     "name": "stdout",
     "output_type": "stream",
     "text": [
      "\n",
      "-----Test Scores----\n",
      "Loss: 0.6049317097177311\n",
      "Accuracy: 70.1530612244898\n",
      "Precision: 60.10498686086484\n",
      "Recall: 73.6334404907931\n",
      "F1: 66.18496613030041\n"
     ]
    }
   ],
   "source": [
    "train_evaluate_three_inputs_terminate(model_1, NUM_EPOCHS, BATCH_SIZE, optimizer, lossfunction, train_data, train_senti_blob, train_pos, train_labels, test_data, test_senti_blob, test_pos, test_labels, softmax, outputpath, 'TErminateOnNaN')"
   ]
  },
  {
   "cell_type": "markdown",
   "metadata": {},
   "source": [
    "# Terminate on NaN and reduce leraning rate"
   ]
  },
  {
   "cell_type": "code",
   "execution_count": 11,
   "metadata": {},
   "outputs": [],
   "source": [
    "from keras.callbacks import TerminateOnNaN\n",
    "#model = Kearas model\n",
    "#softmax = boolean, true if the model uses softmaxe in the output layer otherwise false\n",
    "#outputpath = path were the output csv should be stored\n",
    "#outputname = name to use for the output csv\n",
    "def train_evaluate_three_inputs_terminatereduce(model, nrepochs, nrbatch, optimizer, lossfunction, train_data, train_data2, train_data3,\n",
    "                                train_labels, test_data, test_data2, test_data3, test_labels, \n",
    "                                softmax, outputpath, outputname, lr_monitor, lr_patience, lr_factor):\n",
    "    import datetime\n",
    "    \n",
    "    seed = 7\n",
    "    np.random.seed(seed)\n",
    "    tf.set_random_seed(seed)\n",
    "    rd.seed(seed)\n",
    "    \n",
    "    #needed for softmax-activation\n",
    "    if softmax:\n",
    "        labelstrain = to_categorical(train_labels)\n",
    "        labelstest = to_categorical(test_labels)\n",
    "    else:\n",
    "        labelstrain = train_labels\n",
    "        labelstest = test_labels\n",
    "\n",
    "    time_callback = TimeHistory() \n",
    "    terminate = TerminateOnNaN()\n",
    "    reduce_lr = ReduceLROnPlateau(monitor=lr_monitor, factor=lr_factor,\n",
    "                              patience=lr_patience, min_lr=0.00001)\n",
    "    \n",
    "    #evaluate the positive class (=ironic data)\n",
    "    precision =km.binary_precision(label=1)\n",
    "    recall = km.binary_recall(label=1)\n",
    "    f1 = km.f1_score(label=1)\n",
    "\n",
    "    model.compile(loss = lossfunction,\n",
    "          optimizer=optimizer,\n",
    "          metrics=['accuracy', precision, recall, f1])\n",
    "\n",
    "    #Train the model \n",
    "    hist= model.fit([train_data, train_data2, train_data3], labelstrain,  validation_split=0.2, epochs=nrepochs, batch_size=nrbatch, \n",
    "                    shuffle=True, verbose = 0, callbacks=[time_callback, terminate, reduce_lr])\n",
    "\n",
    "    from matplotlib import pyplot\n",
    "    %matplotlib inline\n",
    "    pyplot.figure(figsize=(15,10))\n",
    "    pyplot.plot(hist.history['acc']) \n",
    "    pyplot.plot(hist.history['f1_score'])\n",
    "    #pyplot.plot(hist.history['loss'])\n",
    "    pyplot.xticks(np.arange(1,nrepochs))\n",
    "    pyplot.legend(['Train Accuracy', 'Train F1', 'Validation Accuracy', 'Validation F1', 'Loss'], loc=(1.04,0.5))\n",
    "    pyplot.show()\n",
    "\n",
    "    #Store the keras model\n",
    "    model.save(outputpath+str(datetime.datetime.now().strftime(\"%Y-%m-%d_%H-%M-%S\"))+'_'+outputname+\n",
    "                   '_'+'_model.h5')        \n",
    "    \n",
    "    score = model.evaluate([test_data,test_data2, test_data3], labelstest, verbose = 0)\n",
    "    \n",
    "    print(\"\\n-----Test Scores----\")\n",
    "    print(\"Loss: \" + str(score[0]))\n",
    "    print(\"Accuracy: \" + str(score[1]*100))\n",
    "    print(\"Precision: \" + str(score[2]*100))\n",
    "    print(\"Recall: \" + str(score[3]*100))\n",
    "    print(\"F1: \" + str(score[4]*100))\n",
    "\n",
    "\n",
    "    #stores the test results        \n",
    "    f= open(outputpath+str(datetime.datetime.now().strftime(\"%Y-%m-%d_%H-%M-%S\"))+' '+outputname+'_finaltestresults.csv','w+')\n",
    "    f.write('Loss;'+str(score[0])+'\\n'+\n",
    "            'Accuracy;'+str(score[1])+'\\n'+\n",
    "            'Precision;'+str(score[2])+'\\n'+\n",
    "            'Recall;'+str(score[3])+'\\n'+\n",
    "            'F1;'+str(score[4])+'\\n')\n",
    "    f.close() "
   ]
  },
  {
   "cell_type": "code",
   "execution_count": 12,
   "metadata": {},
   "outputs": [
    {
     "name": "stdout",
     "output_type": "stream",
     "text": [
      "WARNING:tensorflow:From C:\\Users\\twitter\\Anaconda3\\lib\\site-packages\\tensorflow\\python\\ops\\math_ops.py:3066: to_int32 (from tensorflow.python.ops.math_ops) is deprecated and will be removed in a future version.\n",
      "Instructions for updating:\n",
      "Use tf.cast instead.\n"
     ]
    },
    {
     "data": {
      "image/png": "[encoded data removed]",
      "text/plain": [
       "<Figure size 1080x720 with 1 Axes>"
      ]
     },
     "metadata": {},
     "output_type": "display_data"
    },
    {
     "name": "stdout",
     "output_type": "stream",
     "text": [
      "\n",
      "-----Test Scores----\n",
      "Loss: 0.6496084782542014\n",
      "Accuracy: 60.96938775510205\n",
      "Precision: 50.5518763685316\n",
      "Recall: 73.6334404907931\n",
      "F1: 59.94763913609178\n"
     ]
    }
   ],
   "source": [
    "train_evaluate_three_inputs_terminatereduce(model_1, NUM_EPOCHS, BATCH_SIZE, optimizer, lossfunction, train_data, train_senti_blob, train_pos, train_labels, test_data, test_senti_blob, test_pos, test_labels, softmax, outputpath, 'TerminateOnNaNReduceLR', 'val_acc', 0, 0.1)"
   ]
  }
 ],
 "metadata": {
  "kernelspec": {
   "display_name": "Python 3",
   "language": "python",
   "name": "python3"
  },
  "language_info": {
   "codemirror_mode": {
    "name": "ipython",
    "version": 3
   },
   "file_extension": ".py",
   "mimetype": "text/x-python",
   "name": "python",
   "nbconvert_exporter": "python",
   "pygments_lexer": "ipython3",
   "version": "3.6.5"
  }
 },
 "nbformat": 4,
 "nbformat_minor": 2
}
