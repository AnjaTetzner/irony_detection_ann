{
 "cells": [
  {
   "cell_type": "code",
   "execution_count": 8,
   "metadata": {},
   "outputs": [
    {
     "name": "stdout",
     "output_type": "stream",
     "text": [
      "importing Jupyter notebook from AttentionLayer.ipynb\n"
     ]
    }
   ],
   "source": [
    "import numpy as np\n",
    "import random as rd\n",
    "import tensorflow as tf\n",
    "\n",
    "from keras.layers import Dense, Embedding, Flatten, Input, concatenate, LSTM, Dropout\n",
    "from keras.models import Model\n",
    "from keras.optimizers import Adagrad, RMSprop\n",
    "\n",
    "#Import another jupyter notebook\n",
    "import import_ipynb\n",
    "from Productive_CrossValidation_inclTest import *\n",
    "from Productive_Data_GetTrainTest import wallace\n",
    "from AttentionLayer import *"
   ]
  },
  {
   "cell_type": "code",
   "execution_count": 2,
   "metadata": {},
   "outputs": [],
   "source": [
    "#for reproducability of the results\n",
    "seed = 7\n",
    "np.random.seed(seed)\n",
    "tf.set_random_seed(seed)\n",
    "rd.seed(seed)"
   ]
  },
  {
   "cell_type": "code",
   "execution_count": 3,
   "metadata": {},
   "outputs": [],
   "source": [
    "path = 'data/'\n",
    "outputpath= 'outputs/finalTests/'"
   ]
  },
  {
   "cell_type": "code",
   "execution_count": 4,
   "metadata": {},
   "outputs": [],
   "source": [
    "#Load POS data\n",
    "def get_pos(file):\n",
    "    pos =[]\n",
    "    with open(file, 'r') as f:\n",
    "        for line in f:\n",
    "            pos.append([int(i) for i in line.split(',')])\n",
    "    pos= np.asarray(pos)\n",
    "    return pos"
   ]
  },
  {
   "cell_type": "code",
   "execution_count": 5,
   "metadata": {},
   "outputs": [],
   "source": [
    "#Load Sentiment data\n",
    "def get_sentiment(file):\n",
    "    senti =[]\n",
    "    with open(file, 'r') as f:\n",
    "        for line in f:\n",
    "            senti.append([float(i) for i in line.split(',')])\n",
    "    senti= np.asarray(senti)\n",
    "    return senti"
   ]
  },
  {
   "cell_type": "code",
   "execution_count": 4,
   "metadata": {
    "scrolled": true
   },
   "outputs": [
    {
     "name": "stderr",
     "output_type": "stream",
     "text": [
      "C:\\Users\\twitter\\Anaconda3\\lib\\site-packages\\smart_open\\smart_open_lib.py:398: UserWarning: This function is deprecated, use smart_open.open instead. See the migration notes for details: https://github.com/RaRe-Technologies/smart_open/blob/master/README.rst#migrating-to-the-new-open-function\n",
      "  'See the migration notes for details: %s' % _MIGRATION_NOTES_URL\n",
      "C:\\Users\\twitter\\Anaconda3\\lib\\site-packages\\ipykernel_launcher.py:10: DeprecationWarning: Call to deprecated `wv` (Attribute will be removed in 4.0.0, use self instead).\n",
      "  # Remove the CWD from sys.path while we load stuff.\n"
     ]
    }
   ],
   "source": [
    "#Load pretrained embeddings\n",
    "import gensim\n",
    "from gensim.models import KeyedVectors\n",
    "\n",
    "#Pretrained Google News Embeddings, Dimension 300\n",
    "GOOGLEEMB = path + 'GoogleNews-vectors-negative300.bin'\n",
    "\n",
    "embedding= KeyedVectors.load_word2vec_format(GOOGLEEMB, binary=True)\n",
    "\n",
    "word_vectors = embedding.wv"
   ]
  },
  {
   "cell_type": "code",
   "execution_count": 7,
   "metadata": {
    "scrolled": false
   },
   "outputs": [
    {
     "name": "stdout",
     "output_type": "stream",
     "text": [
      "WARNING:tensorflow:From C:\\Users\\twitter\\Anaconda3\\lib\\site-packages\\tensorflow\\python\\framework\\op_def_library.py:263: colocate_with (from tensorflow.python.framework.ops) is deprecated and will be removed in a future version.\n",
      "Instructions for updating:\n",
      "Colocations handled automatically by placer.\n"
     ]
    }
   ],
   "source": [
    "BATCH_SIZE = 64\n",
    "NUM_EPOCHS = 30\n",
    "softmax = True\n",
    "lossfunction ='binary_crossentropy'\n",
    "optimizer = Adagrad(lr=0.001)"
   ]
  },
  {
   "cell_type": "markdown",
   "metadata": {},
   "source": [
    "# Data"
   ]
  },
  {
   "cell_type": "code",
   "execution_count": 5,
   "metadata": {},
   "outputs": [],
   "source": [
    "#Load necessary data\n",
    "train_data, train_labels, test_data, test_labels, word_index, MAX_SEQUENCE_LENGTH = wallace()"
   ]
  },
  {
   "cell_type": "code",
   "execution_count": 6,
   "metadata": {},
   "outputs": [],
   "source": [
    "#Create embedding-matrix, serves the Keras Embedding Layer as weigths\n",
    "EMBEDDING_DIM=300\n",
    "\n",
    "embedding_matrix = np.zeros((len(word_index)+1, EMBEDDING_DIM))\n",
    "\n",
    "for word, i in word_index.items():\n",
    "    try:\n",
    "        embedding_vector = word_vectors[word]\n",
    "        embedding_matrix[i] = embedding_vector   \n",
    "    except:\n",
    "        # words not found in embeddings will be zero\n",
    "        pass"
   ]
  },
  {
   "cell_type": "code",
   "execution_count": 10,
   "metadata": {},
   "outputs": [],
   "source": [
    "train_pos =get_pos('output_trainTestData/wallace_train_pos.csv')\n",
    "test_pos = get_pos('output_trainTestData/wallace_test_pos.csv')"
   ]
  },
  {
   "cell_type": "code",
   "execution_count": 11,
   "metadata": {},
   "outputs": [],
   "source": [
    "train_senti_blob =get_sentiment('output_trainTestData/wallace_train_data_sentiment_blob.csv')\n",
    "test_senti_blob = get_sentiment('output_trainTestData/wallace_test_data_sentiment_blob.csv')"
   ]
  },
  {
   "cell_type": "markdown",
   "metadata": {},
   "source": [
    "# The model"
   ]
  },
  {
   "cell_type": "code",
   "execution_count": 12,
   "metadata": {},
   "outputs": [
    {
     "name": "stdout",
     "output_type": "stream",
     "text": [
      "__________________________________________________________________________________________________\n",
      "Layer (type)                    Output Shape         Param #     Connected to                     \n",
      "==================================================================================================\n",
      "input_1 (InputLayer)            (None, 891)          0                                            \n",
      "__________________________________________________________________________________________________\n",
      "embedding_1 (Embedding)         (None, 891, 300)     3387600     input_1[0][0]                    \n",
      "__________________________________________________________________________________________________\n",
      "dense_1 (Dense)                 (None, 891, 600)     180600      embedding_1[0][0]                \n",
      "__________________________________________________________________________________________________\n",
      "input_2 (InputLayer)            (None, 891)          0                                            \n",
      "__________________________________________________________________________________________________\n",
      "input_3 (InputLayer)            (None, 891)          0                                            \n",
      "__________________________________________________________________________________________________\n",
      "flatten_1 (Flatten)             (None, 534600)       0           dense_1[0][0]                    \n",
      "__________________________________________________________________________________________________\n",
      "dense_2 (Dense)                 (None, 600)          535200      input_2[0][0]                    \n",
      "__________________________________________________________________________________________________\n",
      "dense_3 (Dense)                 (None, 600)          535200      input_3[0][0]                    \n",
      "__________________________________________________________________________________________________\n",
      "concatenate_1 (Concatenate)     (None, 535800)       0           flatten_1[0][0]                  \n",
      "                                                                 dense_2[0][0]                    \n",
      "                                                                 dense_3[0][0]                    \n",
      "__________________________________________________________________________________________________\n",
      "dense_4 (Dense)                 (None, 2)            1071602     concatenate_1[0][0]              \n",
      "==================================================================================================\n",
      "Total params: 5,710,202\n",
      "Trainable params: 5,710,202\n",
      "Non-trainable params: 0\n",
      "__________________________________________________________________________________________________\n"
     ]
    }
   ],
   "source": [
    "#The model\n",
    "wv_layer = Embedding(len(word_index)+1,\n",
    "                 EMBEDDING_DIM,\n",
    "                 weights=[embedding_matrix],\n",
    "                 input_length=MAX_SEQUENCE_LENGTH,\n",
    "                 trainable=True)\n",
    "\n",
    "comment_input = Input(shape=(MAX_SEQUENCE_LENGTH,), dtype='float32')\n",
    "embedded_sequences = wv_layer(comment_input)\n",
    "x_first = Dense(600, activation='relu')(embedded_sequences)\n",
    "x_first = Flatten()(x_first)\n",
    "\n",
    "#Second part\n",
    "senti_input_blob = Input(shape=(MAX_SEQUENCE_LENGTH,), dtype='float')\n",
    "x_second = Dense(600, activation='relu')(senti_input_blob)\n",
    "\n",
    "#Thrid part\n",
    "senti_input_pos = Input(shape=(MAX_SEQUENCE_LENGTH,), dtype='float')\n",
    "x_third = Dense(600, activation='relu')(senti_input_pos)\n",
    "\n",
    "#Concatination\n",
    "concat = concatenate([x_first, x_second, x_third])\n",
    "\n",
    "preds = Dense(2, activation='softmax')(concat)\n",
    "\n",
    "model = Model(inputs=[comment_input, senti_input_blob, senti_input_pos], outputs=preds)\n",
    "model.summary()"
   ]
  },
  {
   "cell_type": "markdown",
   "metadata": {},
   "source": [
    "# Test results"
   ]
  },
  {
   "cell_type": "code",
   "execution_count": 13,
   "metadata": {},
   "outputs": [
    {
     "name": "stdout",
     "output_type": "stream",
     "text": [
      "WARNING:tensorflow:From C:\\Users\\twitter\\Anaconda3\\lib\\site-packages\\tensorflow\\python\\ops\\math_ops.py:3066: to_int32 (from tensorflow.python.ops.math_ops) is deprecated and will be removed in a future version.\n",
      "Instructions for updating:\n",
      "Use tf.cast instead.\n"
     ]
    },
    {
     "data": {
      "image/png": "[encoded data removed]",
      "text/plain": [
       "<Figure size 1080x720 with 1 Axes>"
      ]
     },
     "metadata": {},
     "output_type": "display_data"
    },
    {
     "name": "stdout",
     "output_type": "stream",
     "text": [
      "\n",
      "-----Test Scores----\n",
      "Loss: 2.50102396884918e-07\n",
      "Accuracy: 100.0\n",
      "Precision: 99.99999997435897\n",
      "Recall: 99.99999997435897\n",
      "F1: 99.99999497435923\n"
     ]
    }
   ],
   "source": [
    "train_evaluate_three_inputs_with_terminate(model, NUM_EPOCHS, BATCH_SIZE, optimizer, lossfunction, train_data, train_senti_blob, train_pos, train_labels, test_data, test_senti_blob, test_pos, test_labels, softmax, outputpath, 'Wallace')"
   ]
  },
  {
   "cell_type": "markdown",
   "metadata": {},
   "source": [
    "# Basic Model"
   ]
  },
  {
   "cell_type": "code",
   "execution_count": 9,
   "metadata": {},
   "outputs": [
    {
     "name": "stdout",
     "output_type": "stream",
     "text": [
      "WARNING:tensorflow:From C:\\Users\\twitter\\Anaconda3\\lib\\site-packages\\tensorflow\\python\\framework\\op_def_library.py:263: colocate_with (from tensorflow.python.framework.ops) is deprecated and will be removed in a future version.\n",
      "Instructions for updating:\n",
      "Colocations handled automatically by placer.\n"
     ]
    }
   ],
   "source": [
    "#Hyperparameters\n",
    "NUM_EPOCHS = 30\n",
    "BATCH_SIZE = 64\n",
    "softmax = True\n",
    "optimizer = RMSprop(lr=0.001, rho = 0.9, epsilon = 0.0000001)\n",
    "lossfunction ='binary_crossentropy'"
   ]
  },
  {
   "cell_type": "code",
   "execution_count": 11,
   "metadata": {},
   "outputs": [
    {
     "name": "stdout",
     "output_type": "stream",
     "text": [
      "_________________________________________________________________\n",
      "Layer (type)                 Output Shape              Param #   \n",
      "=================================================================\n",
      "input_2 (InputLayer)         (None, 891)               0         \n",
      "_________________________________________________________________\n",
      "embedding_2 (Embedding)      (None, 891, 300)          3387600   \n",
      "_________________________________________________________________\n",
      "lstm_2 (LSTM)                (None, 891, 400)          1121600   \n",
      "_________________________________________________________________\n",
      "attention_2 (Attention)      (None, 400)               1291      \n",
      "_________________________________________________________________\n",
      "dropout_2 (Dropout)          (None, 400)               0         \n",
      "_________________________________________________________________\n",
      "dense_3 (Dense)              (None, 400)               160400    \n",
      "_________________________________________________________________\n",
      "dense_4 (Dense)              (None, 2)                 802       \n",
      "=================================================================\n",
      "Total params: 4,671,693\n",
      "Trainable params: 4,671,693\n",
      "Non-trainable params: 0\n",
      "_________________________________________________________________\n"
     ]
    }
   ],
   "source": [
    "#Empedding: inputdim = length of vocabulary in input (text) data, outputdim = EMBEDDING_DIM\n",
    "wv_layer = Embedding(len(word_index)+1,\n",
    "                     EMBEDDING_DIM,\n",
    "                     weights=[embedding_matrix],\n",
    "                     input_length=MAX_SEQUENCE_LENGTH,\n",
    "                     trainable=True)\n",
    "\n",
    "#Input Layer\n",
    "comment_input = Input(shape=(MAX_SEQUENCE_LENGTH,), dtype='int32')\n",
    "\n",
    "#Embedding Layer\n",
    "embedded_sequences = wv_layer(comment_input)\n",
    "\n",
    "#LSTM Layer\n",
    "x = LSTM(400, return_sequences=True, activation='tanh', recurrent_activation='sigmoid')(embedded_sequences)\n",
    "\n",
    "#Attention Layer\n",
    "x = Attention()(x)\n",
    "\n",
    "#Dropout Layer\n",
    "x = Dropout(0.2)(x)\n",
    "\n",
    "#Dense Layer\n",
    "x = Dense(400, activation=\"relu\")(x)\n",
    "\n",
    "#Output (Dense) Layer\n",
    "preds = Dense(2, activation='softmax')(x)\n",
    "\n",
    "#Build the model\n",
    "model = Model(inputs=[comment_input], outputs=preds)\n",
    "model.summary()"
   ]
  },
  {
   "cell_type": "code",
   "execution_count": 12,
   "metadata": {
    "scrolled": true
   },
   "outputs": [
    {
     "name": "stdout",
     "output_type": "stream",
     "text": [
      "WARNING:tensorflow:From C:\\Users\\twitter\\Anaconda3\\lib\\site-packages\\tensorflow\\python\\ops\\math_ops.py:3066: to_int32 (from tensorflow.python.ops.math_ops) is deprecated and will be removed in a future version.\n",
      "Instructions for updating:\n",
      "Use tf.cast instead.\n"
     ]
    },
    {
     "data": {
      "image/png": "[encoded data removed]",
      "text/plain": [
       "<Figure size 1080x720 with 1 Axes>"
      ]
     },
     "metadata": {},
     "output_type": "display_data"
    },
    {
     "name": "stdout",
     "output_type": "stream",
     "text": [
      "\n",
      "-----Test Scores----\n",
      "Loss: 1.0960467033800551e-07\n",
      "Accuracy: 100.0\n",
      "Precision: 99.99999997435897\n",
      "Recall: 99.99999997435897\n",
      "F1: 99.99999497435923\n"
     ]
    }
   ],
   "source": [
    "train_evaluate_final_model(model, NUM_EPOCHS, BATCH_SIZE, optimizer, lossfunction, train_data, train_labels, test_data, test_labels, softmax, outputpath, 'BasicWallace')"
   ]
  }
 ],
 "metadata": {
  "kernelspec": {
   "display_name": "Python 3",
   "language": "python",
   "name": "python3"
  },
  "language_info": {
   "codemirror_mode": {
    "name": "ipython",
    "version": 3
   },
   "file_extension": ".py",
   "mimetype": "text/x-python",
   "name": "python",
   "nbconvert_exporter": "python",
   "pygments_lexer": "ipython3",
   "version": "3.6.5"
  }
 },
 "nbformat": 4,
 "nbformat_minor": 2
}
