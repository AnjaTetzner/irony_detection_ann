{
 "cells": [
  {
   "cell_type": "code",
   "execution_count": 1,
   "metadata": {},
   "outputs": [
    {
     "name": "stderr",
     "output_type": "stream",
     "text": [
      "C:\\Users\\twitter\\Anaconda3\\lib\\site-packages\\h5py\\__init__.py:36: FutureWarning: Conversion of the second argument of issubdtype from `float` to `np.floating` is deprecated. In future, it will be treated as `np.float64 == np.dtype(float).type`.\n",
      "  from ._conv import register_converters as _register_converters\n",
      "Using TensorFlow backend.\n"
     ]
    },
    {
     "name": "stdout",
     "output_type": "stream",
     "text": [
      "importing Jupyter notebook from Productive_CrossValidation_inclTest.ipynb\n",
      "importing Jupyter notebook from Productive_TimeHistory.ipynb\n",
      "importing Jupyter notebook from Productive_Data_GetTrainTest.ipynb\n"
     ]
    }
   ],
   "source": [
    "import numpy as np\n",
    "import regex as re\n",
    "import pandas as pd\n",
    "import glob\n",
    "import random \n",
    "import tensorflow as tf\n",
    "from collections import Counter\n",
    "\n",
    "import nltk\n",
    "from sklearn.model_selection import StratifiedShuffleSplit\n",
    "from nltk.tokenize import TweetTokenizer\n",
    "\n",
    "from keras.layers import Dense, Embedding, Flatten, Input, concatenate, average, minimum, maximum, add\n",
    "from keras.models import Model\n",
    "from keras.optimizers import Adagrad\n",
    "from keras.preprocessing.sequence import pad_sequences\n",
    "\n",
    "#Import another jupyter notebook\n",
    "import import_ipynb\n",
    "from Productive_CrossValidation_inclTest import *\n",
    "from Productive_Data_GetTrainTest import samEval\n",
    "\n",
    "from textblob import TextBlob"
   ]
  },
  {
   "cell_type": "code",
   "execution_count": 2,
   "metadata": {},
   "outputs": [],
   "source": [
    "#for reproducability of the results\n",
    "seed = 7\n",
    "np.random.seed(seed)\n",
    "tf.set_random_seed(seed)\n",
    "rd.seed(seed)"
   ]
  },
  {
   "cell_type": "code",
   "execution_count": 3,
   "metadata": {},
   "outputs": [],
   "source": [
    "path = 'data/'\n",
    "output= 'output_trainTestData/'\n",
    "outputpath ='outputs/05_randomize_samEval2018/'"
   ]
  },
  {
   "cell_type": "markdown",
   "metadata": {},
   "source": [
    "# Load, randomize, decode and store data"
   ]
  },
  {
   "cell_type": "code",
   "execution_count": 4,
   "metadata": {},
   "outputs": [],
   "source": [
    "#Load data, split random in train and test set, create pos and sentiment features\n",
    "TRAIN_SAMEVAL = path + 'SemEval2018-T3-train-taskA_emoji.txt'\n",
    "GOLD_TEST_SAMEVAL  = path + 'SemEval2018-T3_gold_test_taskA_emoji.txt'\n",
    "\n",
    "def read_data_samEval(FILENAME):\n",
    "    labels = []\n",
    "    corpus = []   \n",
    "    with open(FILENAME, 'r', encoding='utf-8') as train: #Decoding utf-8, else exception\n",
    "        for line in train:\n",
    "            if not line.lower().startswith(\"tweet index\"): #skip header\n",
    "                line = line.rstrip().split(\"\\t\")\n",
    "                label = line[1] #erste Spalte - label\n",
    "                labels.append(int(label))\n",
    "                tweet = line[2] #zweite Spalte - tweet\n",
    "                corpus.append(tweet)  \n",
    "    returnvalue = []\n",
    "    returnvalue.append(labels)\n",
    "    returnvalue.append(corpus)\n",
    "    return returnvalue\n",
    "\n",
    "resulttrain = read_data_samEval(TRAIN_SAMEVAL)\n",
    "resulttest = read_data_samEval(GOLD_TEST_SAMEVAL)\n",
    "\n",
    "corpus = np.concatenate([resulttrain, resulttest], axis = -1)\n",
    "\n",
    "#Randomize the data with balanced class distribution\n",
    "stratSplit = StratifiedShuffleSplit(n_splits=1, test_size=0.3, random_state=7)\n",
    "\n",
    "data = corpus[1]\n",
    "labels = corpus[0]\n",
    "\n",
    "for train_index, test_index in stratSplit.split(data, labels):\n",
    "    traindata = data[train_index]\n",
    "    testdata = data[test_index]\n",
    "    trainlabels = labels[train_index]\n",
    "    testlabels = labels[test_index]"
   ]
  },
  {
   "cell_type": "code",
   "execution_count": 5,
   "metadata": {},
   "outputs": [],
   "source": [
    "#Prepocess the data\n",
    "def text_to_wordlist(tweet, vocab):\n",
    "    #Remove hashtags\n",
    "    tweet = re.sub('#','', tweet)\n",
    "    \n",
    "    #Remove usermentions\n",
    "    tweet= re.sub(r'(\\w+|^|)@\\w+','', tweet)\n",
    "    \n",
    "    #Treats url's as special tokens (actually twitter specific)\n",
    "    tweet=re.sub(r'((http|https)://)(\\w|[.]|/)+', 'URL', tweet)\n",
    "    \n",
    "    #Tokenize\n",
    "    tokenizer = TweetTokenizer()\n",
    "    tweet = tokenizer.tokenize(tweet)\n",
    "    \n",
    "    vocab.update(tweet)\n",
    "    return tweet\n",
    "\n",
    "vocab = Counter()\n",
    "tweets_sameval = np.concatenate([traindata ,testdata])\n",
    "\n",
    "alltweets = []\n",
    "for tweet in tweets_sameval:\n",
    "    twt = text_to_wordlist(tweet, vocab)\n",
    "    alltweets.append(twt)"
   ]
  },
  {
   "cell_type": "code",
   "execution_count": 6,
   "metadata": {},
   "outputs": [
    {
     "name": "stdout",
     "output_type": "stream",
     "text": [
      "Maximal Sequence Length: 40\n"
     ]
    }
   ],
   "source": [
    "#Create train data, test data and word_index\n",
    "def create_train_test_wordindex(vocab, tweets, corpustrain):\n",
    "    MAX_NB_WORDS = len(vocab)\n",
    "\n",
    "    MAX_SEQUENCE_LENGTH= 0\n",
    "    for tweet in tweets:\n",
    "        if len(tweet) > MAX_SEQUENCE_LENGTH:\n",
    "            MAX_SEQUENCE_LENGTH = len(tweet)\n",
    "            \n",
    "    print('Maximal Sequence Length: '+str(MAX_SEQUENCE_LENGTH))\n",
    "\n",
    "    word_index = {t[0]: i+1 for i,t in enumerate(vocab.most_common(MAX_NB_WORDS))}\n",
    "\n",
    "    sequences = [[word_index.get(t, 0) for t in tweet]\n",
    "                 for tweet in tweets[:len(corpustrain)]]\n",
    "\n",
    "    test_sequences = [[word_index.get(t, 0) for t in tweet] \n",
    "                      for tweet in tweets[len(corpustrain):]]\n",
    "\n",
    "    train_data = pad_sequences(sequences, maxlen=MAX_SEQUENCE_LENGTH, \n",
    "                         padding=\"pre\", truncating=\"post\")\n",
    "\n",
    "    test_data = pad_sequences(test_sequences, maxlen=MAX_SEQUENCE_LENGTH, padding=\"pre\",\n",
    "                              truncating=\"post\")\n",
    "\n",
    "    return train_data, test_data, word_index\n",
    "\n",
    "train_data, test_data, word_index = create_train_test_wordindex(vocab, alltweets, traindata)"
   ]
  },
  {
   "cell_type": "code",
   "execution_count": 7,
   "metadata": {},
   "outputs": [],
   "source": [
    "#Store data, labels and word_index for reproducability\n",
    "def write_file(filename, data):\n",
    "    file_present = glob.glob(filename)\n",
    "    if not file_present:\n",
    "        pd.DataFrame(data).to_csv(filename, header=None, index=None)\n",
    "    else:\n",
    "        print('Warining: File '+str(filename)+' already exists.')\n",
    "        \n",
    "def write_index(filename, index):\n",
    "    file_present = glob.glob(filename)\n",
    "    if not file_present:\n",
    "        f = open(filename, 'w+', encoding=\"utf-8\")\n",
    "        isnew = True\n",
    "        for key, value in index.items():\n",
    "            if isnew:\n",
    "                f.write(str(key)+'\\t'+str(value))\n",
    "                isnew = False\n",
    "            else:\n",
    "                f.write('\\n'+str(key)+'\\t'+str(value))\n",
    "        f.close()\n",
    "    else:\n",
    "        print('Warining: File '+str(filename)+' already exists.')\n",
    "    \n",
    "write_file(output+'samEval_randomized_train_data.csv', train_data)\n",
    "write_file(output+'samEval_randomized_train_labels.csv', trainlabels)\n",
    "write_file(output+'samEval_randomized_test_data.csv', test_data)\n",
    "write_file(output+'samEval_randomized_test_labels.csv', testlabels)\n",
    "write_index(output+'samEval_randomized_word_index.csv', word_index)"
   ]
  },
  {
   "cell_type": "code",
   "execution_count": null,
   "metadata": {},
   "outputs": [
    {
     "name": "stderr",
     "output_type": "stream",
     "text": [
      "C:\\Users\\twitter\\Anaconda3\\lib\\site-packages\\smart_open\\smart_open_lib.py:398: UserWarning: This function is deprecated, use smart_open.open instead. See the migration notes for details: https://github.com/RaRe-Technologies/smart_open/blob/master/README.rst#migrating-to-the-new-open-function\n",
      "  'See the migration notes for details: %s' % _MIGRATION_NOTES_URL\n"
     ]
    }
   ],
   "source": [
    "#Load pretrained embeddings\n",
    "import gensim\n",
    "from gensim.models import KeyedVectors\n",
    "\n",
    "#Pretrained Google News Embeddings, Dimension 300\n",
    "GOOGLEEMB = path + 'GoogleNews-vectors-negative300.bin'\n",
    "\n",
    "embedding= KeyedVectors.load_word2vec_format(GOOGLEEMB, binary=True)\n",
    "\n",
    "word_vectors = embedding.wv"
   ]
  },
  {
   "cell_type": "code",
   "execution_count": null,
   "metadata": {},
   "outputs": [],
   "source": [
    "#Create embedding-matrix, serves the Keras Embedding Layer as weigths\n",
    "EMBEDDING_DIM=300\n",
    "\n",
    "embedding_matrix = np.zeros((len(word_index)+1, EMBEDDING_DIM))\n",
    "\n",
    "for word, i in word_index.items():\n",
    "    try:\n",
    "        embedding_vector = word_vectors[word]\n",
    "        embedding_matrix[i] = embedding_vector   \n",
    "    except:\n",
    "        # words not found in embeddings will be zero\n",
    "        pass"
   ]
  },
  {
   "cell_type": "markdown",
   "metadata": {},
   "source": [
    "# Aditional features"
   ]
  },
  {
   "cell_type": "code",
   "execution_count": 11,
   "metadata": {},
   "outputs": [],
   "source": [
    "def reconstruct(index_file, data_file):\n",
    "   \n",
    "    loaded_word_index = {}\n",
    "    with open(index_file, 'r', encoding='utf-8') as word_index: #Decoding utf-8, else exception\n",
    "        for line in word_index:\n",
    "            line = line.rstrip().split(\"\\t\")\n",
    "            loaded_word_index[line[0]] = line[1]  \n",
    "            \n",
    "    loaded_data =[]\n",
    "    with open(data_file, 'r', encoding='utf-8') as data: #Decoding utf-8, else exception\n",
    "        for line in data:\n",
    "            line = line.rstrip().split('\\n')\n",
    "            loaded_data.append(line) \n",
    "            \n",
    "    recunstructed_data = []\n",
    "    for line in loaded_data:\n",
    "        for string in line:\n",
    "            tweet = []\n",
    "            string = string.rstrip().split(',')\n",
    "            for item in string:\n",
    "                if item is not ('0'):\n",
    "                    for key, value in loaded_word_index.items():\n",
    "                        if value == item:\n",
    "                            tweet.append(key)\n",
    "            recunstructed_data.append(tweet)\n",
    "        \n",
    "    return recunstructed_data"
   ]
  },
  {
   "cell_type": "code",
   "execution_count": 12,
   "metadata": {},
   "outputs": [],
   "source": [
    "#Create POS\n",
    "def create_pos_sequence(index_file, data_file, MAXLEN):\n",
    "   \n",
    "    recunstructed_data = reconstruct(index_file, data_file)\n",
    "            \n",
    "    pos = []\n",
    "    pos_list = []\n",
    "    for entry in recunstructed_data:\n",
    "        postags = nltk.pos_tag(entry)\n",
    "        for tag in postags:\n",
    "            if tag[1] not in pos_list:\n",
    "                pos_list.append(tag[1])\n",
    "        pos.append(postags)\n",
    "        \n",
    "    pos_dict ={}\n",
    "    i = 1\n",
    "\n",
    "    for entry in pos_list:\n",
    "        pos_dict[entry] = i\n",
    "        i += 1\n",
    "        \n",
    "    decoded_pos =[]\n",
    "    for entry in pos:\n",
    "        tweet = []\n",
    "        for tup in entry:\n",
    "            decode = pos_dict.get(tup[1])\n",
    "            tweet.append(decode)\n",
    "        decoded_pos.append(tweet)\n",
    "        \n",
    "    pos_sequences = pad_sequences(decoded_pos, maxlen=MAXLEN,padding=\"pre\", truncating=\"post\")\n",
    "    \n",
    "    return pos_sequences\n",
    "\n",
    "def write_pos_file(filename, data):\n",
    "    file_present = glob.glob(filename)\n",
    "    if not file_present:\n",
    "        pd.DataFrame(data).to_csv(filename, header=None, index=None)\n",
    "    else:\n",
    "        print('Warining: File '+str(filename)+' already exists.')\n",
    "\n",
    "train_pos = create_pos_sequence(output+'samEval_randomized_word_index.csv',output+'samEval_randomized_train_data.csv', 40)\n",
    "write_pos_file(output+'samEval_randomized_train_pos.csv', train_pos)\n",
    "\n",
    "test_pos = create_pos_sequence(output+'samEval_randomized_word_index.csv',output+'samEval_randomized_test_data.csv', 40)\n",
    "write_pos_file(output+'samEval_randomized_test_pos.csv', test_pos)"
   ]
  },
  {
   "cell_type": "code",
   "execution_count": 13,
   "metadata": {},
   "outputs": [],
   "source": [
    "#Create Sentiment\n",
    "def blob_sentiment(data):\n",
    "    sentiment_blob = []\n",
    "\n",
    "    for entry in data:\n",
    "        sentiment_line = []\n",
    "        for word in entry:\n",
    "            word = TextBlob(word)\n",
    "            polarity = word.sentiment.polarity\n",
    "            sentiment_line.append(polarity)\n",
    "        sentiment_blob.append(sentiment_line)\n",
    "    return sentiment_blob\n",
    "\n",
    "def write_sentiment_file(filename, data, maxlength):\n",
    "    #data_sequence = pad_sequences(data, maxlen=MAXLEN,padding=\"pre\", truncating=\"post\")\n",
    "    file_present = glob.glob(filename)\n",
    "    pad_data= pad_sequences(data, maxlen=maxlength,padding=\"pre\", truncating=\"post\", dtype='float32')\n",
    "    if not file_present:\n",
    "        pd.DataFrame(pad_data).to_csv(filename, header=None, index=None)\n",
    "    else:\n",
    "        print('Warining: File '+str(filename)+' already exists.')\n",
    "\n",
    "rec_data = reconstruct(output+'samEval_randomized_word_index.csv', output+'samEval_randomized_train_data.csv')\n",
    "sentiment_blob = blob_sentiment(rec_data)\n",
    "write_sentiment_file(output+'samEval_randomize_train_data_sentiment_blob.csv', sentiment_blob, 40)\n",
    "\n",
    "rec_data_test = reconstruct(output+'samEval_randomized_word_index.csv',output+'samEval_randomized_test_data.csv')\n",
    "sentiment_blob_test = blob_sentiment(rec_data_test)\n",
    "write_sentiment_file(output+'samEval_randomize_test_data_sentiment_blob.csv', sentiment_blob_test,40)"
   ]
  },
  {
   "cell_type": "code",
   "execution_count": 14,
   "metadata": {},
   "outputs": [],
   "source": [
    "def get_sentiment(file):\n",
    "    senti =[]\n",
    "    with open(file, 'r') as f:\n",
    "        for line in f:\n",
    "            senti.append([float(i) for i in line.split(',')])\n",
    "    senti= np.asarray(senti)\n",
    "    return senti\n",
    "\n",
    "train_senti_blob =get_sentiment('output_trainTestData/samEval_randomize_train_data_sentiment_blob.csv')\n",
    "test_senti_blob = get_sentiment('output_trainTestData/samEval_randomize_test_data_sentiment_blob.csv')"
   ]
  },
  {
   "cell_type": "markdown",
   "metadata": {},
   "source": [
    "### Hyperparameter for all models"
   ]
  },
  {
   "cell_type": "code",
   "execution_count": 15,
   "metadata": {},
   "outputs": [],
   "source": [
    "BATCH_SIZE = 64\n",
    "NUM_EPOCHS = 30\n",
    "softmax = True\n",
    "lossfunction ='binary_crossentropy'\n",
    "optimizer = Adagrad(lr=0.001)"
   ]
  },
  {
   "cell_type": "markdown",
   "metadata": {},
   "source": [
    "# Train the model"
   ]
  },
  {
   "cell_type": "code",
   "execution_count": 16,
   "metadata": {},
   "outputs": [
    {
     "name": "stdout",
     "output_type": "stream",
     "text": [
      "__________________________________________________________________________________________________\n",
      "Layer (type)                    Output Shape         Param #     Connected to                     \n",
      "==================================================================================================\n",
      "input_1 (InputLayer)            (None, 40)           0                                            \n",
      "__________________________________________________________________________________________________\n",
      "embedding_1 (Embedding)         (None, 40, 300)      4118700     input_1[0][0]                    \n",
      "__________________________________________________________________________________________________\n",
      "dense_1 (Dense)                 (None, 40, 600)      180600      embedding_1[0][0]                \n",
      "__________________________________________________________________________________________________\n",
      "input_2 (InputLayer)            (None, 40)           0                                            \n",
      "__________________________________________________________________________________________________\n",
      "input_3 (InputLayer)            (None, 40)           0                                            \n",
      "__________________________________________________________________________________________________\n",
      "flatten_1 (Flatten)             (None, 24000)        0           dense_1[0][0]                    \n",
      "__________________________________________________________________________________________________\n",
      "dense_2 (Dense)                 (None, 600)          24600       input_2[0][0]                    \n",
      "__________________________________________________________________________________________________\n",
      "dense_3 (Dense)                 (None, 600)          24600       input_3[0][0]                    \n",
      "__________________________________________________________________________________________________\n",
      "concatenate_1 (Concatenate)     (None, 25200)        0           flatten_1[0][0]                  \n",
      "                                                                 dense_2[0][0]                    \n",
      "                                                                 dense_3[0][0]                    \n",
      "__________________________________________________________________________________________________\n",
      "dense_4 (Dense)                 (None, 2)            50402       concatenate_1[0][0]              \n",
      "==================================================================================================\n",
      "Total params: 4,398,902\n",
      "Trainable params: 4,398,902\n",
      "Non-trainable params: 0\n",
      "__________________________________________________________________________________________________\n"
     ]
    }
   ],
   "source": [
    "#First part\n",
    "MAX_SEQUENCE_LENGTH = 40\n",
    "wv_layer = Embedding(len(word_index)+1,\n",
    "                 EMBEDDING_DIM,\n",
    "                 weights=[embedding_matrix],\n",
    "                 input_length=MAX_SEQUENCE_LENGTH,\n",
    "                 trainable=True)\n",
    "\n",
    "comment_input = Input(shape=(MAX_SEQUENCE_LENGTH,), dtype='float32')\n",
    "embedded_sequences = wv_layer(comment_input)\n",
    "x_first = Dense(600, activation='relu')(embedded_sequences)\n",
    "x_first = Flatten()(x_first)\n",
    "\n",
    "#Second part\n",
    "senti_input_blob = Input(shape=(MAX_SEQUENCE_LENGTH,), dtype='float')\n",
    "x_second = Dense(600, activation='relu')(senti_input_blob)\n",
    "\n",
    "#Thrid part\n",
    "senti_input_pos = Input(shape=(MAX_SEQUENCE_LENGTH,), dtype='float')\n",
    "x_third = Dense(600, activation='relu')(senti_input_pos)\n",
    "\n",
    "#Concatination\n",
    "concat = concatenate([x_first, x_second, x_third])\n",
    "\n",
    "preds = Dense(2, activation='softmax')(concat)\n",
    "\n",
    "model = Model(inputs=[comment_input, senti_input_blob, senti_input_pos], outputs=preds)\n",
    "model.summary()"
   ]
  },
  {
   "cell_type": "code",
   "execution_count": 286,
   "metadata": {
    "scrolled": false
   },
   "outputs": [
    {
     "data": {
      "image/png": "[encoded data removed]",
      "text/plain": [
       "<Figure size 1080x720 with 1 Axes>"
      ]
     },
     "metadata": {},
     "output_type": "display_data"
    },
    {
     "name": "stdout",
     "output_type": "stream",
     "text": [
      "\n",
      "-----Test Scores----\n",
      "Loss: 0.6676282820763526\n",
      "Accuracy: 63.63636358475788\n",
      "Precision: 62.05357140086895\n",
      "Recall: 62.61261258440874\n",
      "F1: 62.331833537171875\n"
     ]
    }
   ],
   "source": [
    "train_evaluate_three_inputs(model, NUM_EPOCHS, BATCH_SIZE, optimizer, lossfunction, train_data, train_senti_blob, train_pos, trainlabels, test_data, test_senti_blob, test_pos, test_labels, softmax, outputpath, 'finalrandomize')"
   ]
  },
  {
   "cell_type": "code",
   "execution_count": 18,
   "metadata": {},
   "outputs": [
    {
     "data": {
      "image/png": "[encoded data removed]",
      "text/plain": [
       "<Figure size 1080x720 with 1 Axes>"
      ]
     },
     "metadata": {},
     "output_type": "display_data"
    },
    {
     "name": "stdout",
     "output_type": "stream",
     "text": [
      "\n",
      "-----Test Scores----\n",
      "Loss: 0.6777836711375744\n",
      "Accuracy: 65.04328999168429\n",
      "Precision: 64.66346152291744\n",
      "Recall: 60.44943818866305\n",
      "F1: 62.485476988835195\n"
     ]
    }
   ],
   "source": [
    "train_evaluate_three_inputs(model, NUM_EPOCHS, BATCH_SIZE, optimizer, lossfunction, train_data, train_senti_blob, train_pos, trainlabels, test_data, test_senti_blob, test_pos, testlabels, softmax, outputpath, 'finalrandomize')"
   ]
  }
 ],
 "metadata": {
  "kernelspec": {
   "display_name": "Python 3",
   "language": "python",
   "name": "python3"
  },
  "language_info": {
   "codemirror_mode": {
    "name": "ipython",
    "version": 3
   },
   "file_extension": ".py",
   "mimetype": "text/x-python",
   "name": "python",
   "nbconvert_exporter": "python",
   "pygments_lexer": "ipython3",
   "version": "3.6.5"
  }
 },
 "nbformat": 4,
 "nbformat_minor": 2
}
